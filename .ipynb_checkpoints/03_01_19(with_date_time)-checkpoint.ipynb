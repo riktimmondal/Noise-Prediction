{
 "cells": [
  {
   "cell_type": "code",
   "execution_count": 1,
   "metadata": {},
   "outputs": [
    {
     "name": "stderr",
     "output_type": "stream",
     "text": [
      "/home/riktim/anaconda3/envs/jde/lib/python3.6/importlib/_bootstrap.py:219: RuntimeWarning: numpy.dtype size changed, may indicate binary incompatibility. Expected 96, got 88\n",
      "  return f(*args, **kwds)\n",
      "/home/riktim/anaconda3/envs/jde/lib/python3.6/importlib/_bootstrap.py:219: RuntimeWarning: numpy.dtype size changed, may indicate binary incompatibility. Expected 96, got 88\n",
      "  return f(*args, **kwds)\n"
     ]
    }
   ],
   "source": [
    "import numpy as np\n",
    "import pandas as pd\n",
    "import xgboost\n",
    "import lightgbm\n",
    "from catboost import CatBoostRegressor\n",
    "from sklearn.ensemble import RandomForestRegressor\n",
    "from sklearn.ensemble import GradientBoostingRegressor\n",
    "from sklearn.naive_bayes import GaussianNB\n",
    "from sklearn.neighbors import KNeighborsRegressor\n",
    "\n",
    "from sklearn import neighbors\n",
    "\n",
    "\n",
    "from datetime import datetime\n",
    "import seaborn as sns\n",
    "sns.set()\n",
    "from mlxtend.plotting import plot_decision_regions\n",
    "import matplotlib.pyplot as plt\n",
    "%matplotlib inline\n",
    "\n",
    "from sklearn import linear_model\n",
    "from sklearn import tree\n",
    "from sklearn import svm\n",
    "from sklearn import decomposition\n",
    "\n",
    "from sklearn import utils\n",
    "\n",
    "from sklearn.metrics import mean_squared_error,r2_score\n"
   ]
  },
  {
   "cell_type": "code",
   "execution_count": 2,
   "metadata": {},
   "outputs": [],
   "source": [
    "#Reading data\n",
    "data=pd.read_csv('./data/n1.csv')"
   ]
  },
  {
   "cell_type": "code",
   "execution_count": 3,
   "metadata": {},
   "outputs": [
    {
     "data": {
      "text/html": [
       "<div>\n",
       "<style scoped>\n",
       "    .dataframe tbody tr th:only-of-type {\n",
       "        vertical-align: middle;\n",
       "    }\n",
       "\n",
       "    .dataframe tbody tr th {\n",
       "        vertical-align: top;\n",
       "    }\n",
       "\n",
       "    .dataframe thead th {\n",
       "        text-align: right;\n",
       "    }\n",
       "</style>\n",
       "<table border=\"1\" class=\"dataframe\">\n",
       "  <thead>\n",
       "    <tr style=\"text-align: right;\">\n",
       "      <th></th>\n",
       "      <th>username</th>\n",
       "      <th>latitude</th>\n",
       "      <th>longitude</th>\n",
       "      <th>noise_value</th>\n",
       "      <th>timestamp</th>\n",
       "      <th>tolerance_level</th>\n",
       "      <th>noise_category</th>\n",
       "      <th>region_category</th>\n",
       "      <th>aqi_value</th>\n",
       "    </tr>\n",
       "  </thead>\n",
       "  <tbody>\n",
       "    <tr>\n",
       "      <th>0</th>\n",
       "      <td>Abhimanyu</td>\n",
       "      <td>22.498528</td>\n",
       "      <td>88.383528</td>\n",
       "      <td>32.6</td>\n",
       "      <td>21-01-2018 02:01</td>\n",
       "      <td>Normal</td>\n",
       "      <td>Traffic</td>\n",
       "      <td>Street/Road</td>\n",
       "      <td>0</td>\n",
       "    </tr>\n",
       "    <tr>\n",
       "      <th>1</th>\n",
       "      <td>Abhimanyu</td>\n",
       "      <td>22.498607</td>\n",
       "      <td>88.383522</td>\n",
       "      <td>59.8</td>\n",
       "      <td>21-01-2018 02:01</td>\n",
       "      <td>Normal</td>\n",
       "      <td>Traffic</td>\n",
       "      <td>Street/Road</td>\n",
       "      <td>0</td>\n",
       "    </tr>\n",
       "  </tbody>\n",
       "</table>\n",
       "</div>"
      ],
      "text/plain": [
       "    username   latitude  longitude  noise_value         timestamp  \\\n",
       "0  Abhimanyu  22.498528  88.383528         32.6  21-01-2018 02:01   \n",
       "1  Abhimanyu  22.498607  88.383522         59.8  21-01-2018 02:01   \n",
       "\n",
       "  tolerance_level noise_category region_category  aqi_value  \n",
       "0          Normal        Traffic     Street/Road          0  \n",
       "1          Normal        Traffic     Street/Road          0  "
      ]
     },
     "execution_count": 3,
     "metadata": {},
     "output_type": "execute_result"
    }
   ],
   "source": [
    "data.head(2)"
   ]
  },
  {
   "cell_type": "code",
   "execution_count": 4,
   "metadata": {},
   "outputs": [],
   "source": [
    "#adding feature for crowded and uncrowded\n",
    "data['population_type']=data['noise_value'].apply(lambda x: 1 if x>=61 else 0)"
   ]
  },
  {
   "cell_type": "code",
   "execution_count": 5,
   "metadata": {},
   "outputs": [
    {
     "data": {
      "text/plain": [
       "username            object\n",
       "latitude           float64\n",
       "longitude          float64\n",
       "noise_value        float64\n",
       "timestamp           object\n",
       "tolerance_level     object\n",
       "noise_category      object\n",
       "region_category     object\n",
       "aqi_value            int64\n",
       "population_type      int64\n",
       "dtype: object"
      ]
     },
     "execution_count": 5,
     "metadata": {},
     "output_type": "execute_result"
    }
   ],
   "source": [
    "data.dtypes"
   ]
  },
  {
   "cell_type": "code",
   "execution_count": 6,
   "metadata": {},
   "outputs": [
    {
     "data": {
      "text/plain": [
       "username                   object\n",
       "latitude                  float64\n",
       "longitude                 float64\n",
       "noise_value               float64\n",
       "timestamp          datetime64[ns]\n",
       "tolerance_level            object\n",
       "noise_category             object\n",
       "region_category            object\n",
       "aqi_value                   int64\n",
       "population_type             int64\n",
       "dtype: object"
      ]
     },
     "execution_count": 6,
     "metadata": {},
     "output_type": "execute_result"
    }
   ],
   "source": [
    "data['timestamp']=pd.to_datetime(data['timestamp'])\n",
    "data.dtypes\n",
    "\n"
   ]
  },
  {
   "cell_type": "code",
   "execution_count": 7,
   "metadata": {},
   "outputs": [],
   "source": [
    "data['year']=data['timestamp'].dt.year\n",
    "data['month']=data['timestamp'].dt.month\n",
    "data['day']=data['timestamp'].dt.day\n",
    "data['hours']=data['timestamp'].dt.hour\n",
    "data['minutes']=data['timestamp'].dt.minute\n",
    "data['seconds']=data['timestamp'].dt.second\n",
    "#data['date']=data['timestamp'].dt.date\n",
    "#data['time']=data['timestamp'].dt.time"
   ]
  },
  {
   "cell_type": "code",
   "execution_count": 8,
   "metadata": {},
   "outputs": [
    {
     "data": {
      "text/html": [
       "<div>\n",
       "<style scoped>\n",
       "    .dataframe tbody tr th:only-of-type {\n",
       "        vertical-align: middle;\n",
       "    }\n",
       "\n",
       "    .dataframe tbody tr th {\n",
       "        vertical-align: top;\n",
       "    }\n",
       "\n",
       "    .dataframe thead th {\n",
       "        text-align: right;\n",
       "    }\n",
       "</style>\n",
       "<table border=\"1\" class=\"dataframe\">\n",
       "  <thead>\n",
       "    <tr style=\"text-align: right;\">\n",
       "      <th></th>\n",
       "      <th>username</th>\n",
       "      <th>latitude</th>\n",
       "      <th>longitude</th>\n",
       "      <th>noise_value</th>\n",
       "      <th>timestamp</th>\n",
       "      <th>tolerance_level</th>\n",
       "      <th>noise_category</th>\n",
       "      <th>region_category</th>\n",
       "      <th>aqi_value</th>\n",
       "      <th>population_type</th>\n",
       "      <th>year</th>\n",
       "      <th>month</th>\n",
       "      <th>day</th>\n",
       "      <th>hours</th>\n",
       "      <th>minutes</th>\n",
       "      <th>seconds</th>\n",
       "    </tr>\n",
       "  </thead>\n",
       "  <tbody>\n",
       "    <tr>\n",
       "      <th>0</th>\n",
       "      <td>Abhimanyu</td>\n",
       "      <td>22.498528</td>\n",
       "      <td>88.383528</td>\n",
       "      <td>32.6</td>\n",
       "      <td>2018-01-21 02:01:00</td>\n",
       "      <td>Normal</td>\n",
       "      <td>Traffic</td>\n",
       "      <td>Street/Road</td>\n",
       "      <td>0</td>\n",
       "      <td>0</td>\n",
       "      <td>2018</td>\n",
       "      <td>1</td>\n",
       "      <td>21</td>\n",
       "      <td>2</td>\n",
       "      <td>1</td>\n",
       "      <td>0</td>\n",
       "    </tr>\n",
       "  </tbody>\n",
       "</table>\n",
       "</div>"
      ],
      "text/plain": [
       "    username   latitude  longitude  noise_value           timestamp  \\\n",
       "0  Abhimanyu  22.498528  88.383528         32.6 2018-01-21 02:01:00   \n",
       "\n",
       "  tolerance_level noise_category region_category  aqi_value  population_type  \\\n",
       "0          Normal        Traffic     Street/Road          0                0   \n",
       "\n",
       "   year  month  day  hours  minutes  seconds  \n",
       "0  2018      1   21      2        1        0  "
      ]
     },
     "execution_count": 8,
     "metadata": {},
     "output_type": "execute_result"
    }
   ],
   "source": [
    "data.head(1)\n",
    "#print(type(data['date'][0]))"
   ]
  },
  {
   "cell_type": "code",
   "execution_count": 9,
   "metadata": {},
   "outputs": [],
   "source": [
    "train=data[0:1596]\n",
    "test=data[1596:]"
   ]
  },
  {
   "cell_type": "code",
   "execution_count": 10,
   "metadata": {},
   "outputs": [
    {
     "data": {
      "text/html": [
       "<div>\n",
       "<style scoped>\n",
       "    .dataframe tbody tr th:only-of-type {\n",
       "        vertical-align: middle;\n",
       "    }\n",
       "\n",
       "    .dataframe tbody tr th {\n",
       "        vertical-align: top;\n",
       "    }\n",
       "\n",
       "    .dataframe thead th {\n",
       "        text-align: right;\n",
       "    }\n",
       "</style>\n",
       "<table border=\"1\" class=\"dataframe\">\n",
       "  <thead>\n",
       "    <tr style=\"text-align: right;\">\n",
       "      <th></th>\n",
       "      <th>username</th>\n",
       "      <th>latitude</th>\n",
       "      <th>longitude</th>\n",
       "      <th>noise_value</th>\n",
       "      <th>timestamp</th>\n",
       "      <th>tolerance_level</th>\n",
       "      <th>noise_category</th>\n",
       "      <th>region_category</th>\n",
       "      <th>aqi_value</th>\n",
       "      <th>population_type</th>\n",
       "      <th>year</th>\n",
       "      <th>month</th>\n",
       "      <th>day</th>\n",
       "      <th>hours</th>\n",
       "      <th>minutes</th>\n",
       "      <th>seconds</th>\n",
       "    </tr>\n",
       "  </thead>\n",
       "  <tbody>\n",
       "    <tr>\n",
       "      <th>0</th>\n",
       "      <td>Abhimanyu</td>\n",
       "      <td>22.498528</td>\n",
       "      <td>88.383528</td>\n",
       "      <td>32.6</td>\n",
       "      <td>2018-01-21 02:01:00</td>\n",
       "      <td>Normal</td>\n",
       "      <td>Traffic</td>\n",
       "      <td>Street/Road</td>\n",
       "      <td>0</td>\n",
       "      <td>0</td>\n",
       "      <td>2018</td>\n",
       "      <td>1</td>\n",
       "      <td>21</td>\n",
       "      <td>2</td>\n",
       "      <td>1</td>\n",
       "      <td>0</td>\n",
       "    </tr>\n",
       "  </tbody>\n",
       "</table>\n",
       "</div>"
      ],
      "text/plain": [
       "    username   latitude  longitude  noise_value           timestamp  \\\n",
       "0  Abhimanyu  22.498528  88.383528         32.6 2018-01-21 02:01:00   \n",
       "\n",
       "  tolerance_level noise_category region_category  aqi_value  population_type  \\\n",
       "0          Normal        Traffic     Street/Road          0                0   \n",
       "\n",
       "   year  month  day  hours  minutes  seconds  \n",
       "0  2018      1   21      2        1        0  "
      ]
     },
     "execution_count": 10,
     "metadata": {},
     "output_type": "execute_result"
    }
   ],
   "source": [
    "train.head(1)"
   ]
  },
  {
   "cell_type": "code",
   "execution_count": 11,
   "metadata": {},
   "outputs": [],
   "source": [
    "train_y=train.noise_value\n",
    "test_y=test.noise_value"
   ]
  },
  {
   "cell_type": "code",
   "execution_count": 12,
   "metadata": {},
   "outputs": [
    {
     "name": "stderr",
     "output_type": "stream",
     "text": [
      "/home/riktim/anaconda3/envs/jde/lib/python3.6/site-packages/pandas/core/frame.py:3697: SettingWithCopyWarning: \n",
      "A value is trying to be set on a copy of a slice from a DataFrame\n",
      "\n",
      "See the caveats in the documentation: http://pandas.pydata.org/pandas-docs/stable/indexing.html#indexing-view-versus-copy\n",
      "  errors=errors)\n"
     ]
    }
   ],
   "source": [
    "columns = ['username','noise_value','tolerance_level','noise_category', 'region_category', 'aqi_value','timestamp']\n",
    "train.drop(columns,axis=1,inplace=True)\n",
    "test.drop(columns,axis=1,inplace=True)"
   ]
  },
  {
   "cell_type": "code",
   "execution_count": 13,
   "metadata": {},
   "outputs": [],
   "source": [
    "train_X=train\n",
    "test_X=test"
   ]
  },
  {
   "cell_type": "code",
   "execution_count": 25,
   "metadata": {},
   "outputs": [],
   "source": [
    "predicted_values=list()\n",
    "R2_scores=list()\n",
    "mse_values=list()\n",
    "regressors=[\n",
    "    svm.SVR(),\n",
    "    #linear_model.least_angle(),\n",
    "    linear_model.OrthogonalMatchingPursuit(),\n",
    "    linear_model.LassoLars(),\n",
    "    #linear_model.perceptron(),\n",
    "    #linear_model.MultiTaskLasso(),\n",
    "    #linear_model.ElasticNet(),\n",
    "    #linear_model.MultiTaskElasticNet(),\n",
    "    linear_model.SGDRegressor(),\n",
    "    linear_model.BayesianRidge(),\n",
    "    linear_model.Lasso(),\n",
    "    linear_model.ARDRegression(),\n",
    "    linear_model.PassiveAggressiveRegressor(),\n",
    "    linear_model.TheilSenRegressor(),\n",
    "    linear_model.LinearRegression(),\n",
    "    #linear_model.LogisticRegression(),\n",
    "    linear_model.LassoLars(),\n",
    "    tree.DecisionTreeRegressor(),\n",
    "    neighbors.KNeighborsRegressor(),\n",
    "    RandomForestRegressor(),\n",
    "    GradientBoostingRegressor(n_estimators=100, max_depth=4),\n",
    "    xgboost.XGBRegressor(n_estimators=100, learning_rate=0.08, gamma=0, subsample=0.75,\n",
    "                           colsample_bytree=1, max_depth=7),\n",
    "    CatBoostRegressor(iterations=50, depth=3, learning_rate=0.1, loss_function='RMSE'),\n",
    "    \n",
    "    ]"
   ]
  },
  {
   "cell_type": "code",
   "execution_count": 26,
   "metadata": {
    "scrolled": true
   },
   "outputs": [
    {
     "name": "stderr",
     "output_type": "stream",
     "text": [
      "/home/riktim/anaconda3/envs/jde/lib/python3.6/site-packages/sklearn/linear_model/stochastic_gradient.py:128: FutureWarning: max_iter and tol parameters have been added in <class 'sklearn.linear_model.stochastic_gradient.SGDRegressor'> in 0.19. If both are left unset, they default to max_iter=5 and tol=None. If tol is not None, max_iter defaults to max_iter=1000. From 0.21, default max_iter will be 1000, and default tol will be 1e-3.\n",
      "  \"and default tol will be 1e-3.\" % type(self), FutureWarning)\n",
      "/home/riktim/anaconda3/envs/jde/lib/python3.6/site-packages/sklearn/linear_model/stochastic_gradient.py:128: FutureWarning: max_iter and tol parameters have been added in <class 'sklearn.linear_model.passive_aggressive.PassiveAggressiveRegressor'> in 0.19. If both are left unset, they default to max_iter=5 and tol=None. If tol is not None, max_iter defaults to max_iter=1000. From 0.21, default max_iter will be 1000, and default tol will be 1e-3.\n",
      "  \"and default tol will be 1e-3.\" % type(self), FutureWarning)\n"
     ]
    },
    {
     "name": "stdout",
     "output_type": "stream",
     "text": [
      "0:\tlearn: 51.8055752\ttotal: 54.5ms\tremaining: 2.67s\n",
      "1:\tlearn: 46.8037301\ttotal: 59.6ms\tremaining: 1.43s\n",
      "2:\tlearn: 42.3092276\ttotal: 64.2ms\tremaining: 1s\n",
      "3:\tlearn: 38.2188237\ttotal: 66.8ms\tremaining: 768ms\n",
      "4:\tlearn: 34.5249862\ttotal: 69.3ms\tremaining: 623ms\n",
      "5:\tlearn: 31.2484205\ttotal: 72.1ms\tremaining: 528ms\n",
      "6:\tlearn: 28.2822514\ttotal: 74.5ms\tremaining: 458ms\n",
      "7:\tlearn: 25.6605605\ttotal: 76.4ms\tremaining: 401ms\n",
      "8:\tlearn: 23.2681551\ttotal: 80ms\tremaining: 364ms\n",
      "9:\tlearn: 21.1394047\ttotal: 82.6ms\tremaining: 330ms\n",
      "10:\tlearn: 19.2260259\ttotal: 85ms\tremaining: 302ms\n",
      "11:\tlearn: 17.5238660\ttotal: 87.7ms\tremaining: 278ms\n",
      "12:\tlearn: 16.0305487\ttotal: 90.5ms\tremaining: 257ms\n",
      "13:\tlearn: 14.6989521\ttotal: 92.8ms\tremaining: 239ms\n",
      "14:\tlearn: 13.5071948\ttotal: 95.3ms\tremaining: 222ms\n",
      "15:\tlearn: 12.4754675\ttotal: 97.8ms\tremaining: 208ms\n",
      "16:\tlearn: 11.5347277\ttotal: 100ms\tremaining: 195ms\n",
      "17:\tlearn: 10.7070530\ttotal: 103ms\tremaining: 183ms\n",
      "18:\tlearn: 9.9419062\ttotal: 105ms\tremaining: 172ms\n",
      "19:\tlearn: 9.3174128\ttotal: 108ms\tremaining: 161ms\n",
      "20:\tlearn: 8.7648673\ttotal: 110ms\tremaining: 152ms\n",
      "21:\tlearn: 8.2597860\ttotal: 113ms\tremaining: 143ms\n",
      "22:\tlearn: 7.8084044\ttotal: 115ms\tremaining: 135ms\n",
      "23:\tlearn: 7.4223599\ttotal: 117ms\tremaining: 127ms\n",
      "24:\tlearn: 7.1357244\ttotal: 120ms\tremaining: 120ms\n",
      "25:\tlearn: 6.8759522\ttotal: 122ms\tremaining: 113ms\n",
      "26:\tlearn: 6.6481523\ttotal: 125ms\tremaining: 107ms\n",
      "27:\tlearn: 6.3946590\ttotal: 128ms\tremaining: 101ms\n",
      "28:\tlearn: 6.2004320\ttotal: 131ms\tremaining: 94.6ms\n",
      "29:\tlearn: 6.0233938\ttotal: 134ms\tremaining: 89.1ms\n",
      "30:\tlearn: 5.7828245\ttotal: 137ms\tremaining: 83.7ms\n",
      "31:\tlearn: 5.6785814\ttotal: 139ms\tremaining: 78.4ms\n",
      "32:\tlearn: 5.5872304\ttotal: 142ms\tremaining: 73.1ms\n",
      "33:\tlearn: 5.3980996\ttotal: 145ms\tremaining: 68ms\n",
      "34:\tlearn: 5.3171665\ttotal: 147ms\tremaining: 63ms\n",
      "35:\tlearn: 5.2496098\ttotal: 157ms\tremaining: 61ms\n",
      "36:\tlearn: 5.1563841\ttotal: 163ms\tremaining: 57.1ms\n",
      "37:\tlearn: 5.0747274\ttotal: 168ms\tremaining: 52.9ms\n",
      "38:\tlearn: 5.0340958\ttotal: 177ms\tremaining: 49.9ms\n",
      "39:\tlearn: 4.9030835\ttotal: 181ms\tremaining: 45.3ms\n",
      "40:\tlearn: 4.8749250\ttotal: 185ms\tremaining: 40.6ms\n",
      "41:\tlearn: 4.8242991\ttotal: 192ms\tremaining: 36.5ms\n",
      "42:\tlearn: 4.7313512\ttotal: 198ms\tremaining: 32.2ms\n",
      "43:\tlearn: 4.6636940\ttotal: 206ms\tremaining: 28.1ms\n",
      "44:\tlearn: 4.6162453\ttotal: 211ms\tremaining: 23.4ms\n",
      "45:\tlearn: 4.6042236\ttotal: 217ms\tremaining: 18.9ms\n",
      "46:\tlearn: 4.5822066\ttotal: 224ms\tremaining: 14.3ms\n",
      "47:\tlearn: 4.5208603\ttotal: 229ms\tremaining: 9.56ms\n",
      "48:\tlearn: 4.5158329\ttotal: 235ms\tremaining: 4.8ms\n",
      "49:\tlearn: 4.5119355\ttotal: 238ms\tremaining: 0us\n"
     ]
    }
   ],
   "source": [
    "for model in regressors:\n",
    "    model.fit(train_X,train_y)\n",
    "    predicted_noise=model.predict(test_X)\n",
    "    predicted_values.append(predicted_noise)\n",
    "    R2_scores.append(r2_score(predicted_noise,test_y))\n",
    "    mse_values.append(mean_squared_error(predicted_noise,test_y))\n"
   ]
  },
  {
   "cell_type": "code",
   "execution_count": 27,
   "metadata": {
    "scrolled": false
   },
   "outputs": [
    {
     "data": {
      "text/plain": [
       "[67.17225456916262,\n",
       " 13.989342629285202,\n",
       " 68.10285315066429,\n",
       " 9.999651377499485e+30,\n",
       " 323.4497273484677,\n",
       " 18.705611133833017,\n",
       " 341.3279071698216,\n",
       " 11.707476494483343,\n",
       " 287.74836722250257,\n",
       " 349.15856906122286,\n",
       " 68.10285315066429,\n",
       " 17.704973157384316,\n",
       " 31.2492319201995,\n",
       " 14.886383841784442,\n",
       " 13.966529304895918,\n",
       " 9.770523912329004,\n",
       " 35.27579207814443]"
      ]
     },
     "execution_count": 27,
     "metadata": {},
     "output_type": "execute_result"
    }
   ],
   "source": [
    "mse_values"
   ]
  },
  {
   "cell_type": "code",
   "execution_count": 28,
   "metadata": {},
   "outputs": [
    {
     "data": {
      "text/plain": [
       "[-54.51651297188244,\n",
       " 0.2577786592003719,\n",
       " -1.4987955325294194e+29,\n",
       " -1020737.4199437196,\n",
       " -1.377612156086065,\n",
       " -0.40623398580776215,\n",
       " -1.39916230149757,\n",
       " -12.16539538094711,\n",
       " -1.475697865571827,\n",
       " -1.415817322165918,\n",
       " -1.4987955325294194e+29,\n",
       " 0.24192261741661736,\n",
       " -0.2740154945618509,\n",
       " 0.3445892713075679,\n",
       " -0.04098110407764577,\n",
       " 0.016410962600160617,\n",
       " -1.2670962696932833]"
      ]
     },
     "execution_count": 28,
     "metadata": {},
     "output_type": "execute_result"
    }
   ],
   "source": [
    "R2_scores"
   ]
  },
  {
   "cell_type": "code",
   "execution_count": 43,
   "metadata": {},
   "outputs": [],
   "source": [
    "from sklearn.preprocessing import PolynomialFeatures"
   ]
  },
  {
   "cell_type": "code",
   "execution_count": 68,
   "metadata": {},
   "outputs": [
    {
     "name": "stdout",
     "output_type": "stream",
     "text": [
      "0:\tlearn: 51.8290020\ttotal: 7.76ms\tremaining: 380ms\n",
      "1:\tlearn: 46.7897990\ttotal: 13.1ms\tremaining: 314ms\n",
      "2:\tlearn: 42.2772029\ttotal: 18ms\tremaining: 282ms\n",
      "3:\tlearn: 38.1743385\ttotal: 21.2ms\tremaining: 244ms\n",
      "4:\tlearn: 34.5338818\ttotal: 26.5ms\tremaining: 238ms\n",
      "5:\tlearn: 31.2482161\ttotal: 31.6ms\tremaining: 231ms\n",
      "6:\tlearn: 28.2867069\ttotal: 36.5ms\tremaining: 224ms\n",
      "7:\tlearn: 25.6637714\ttotal: 43.1ms\tremaining: 226ms\n",
      "8:\tlearn: 23.2828283\ttotal: 51.4ms\tremaining: 234ms\n",
      "9:\tlearn: 21.1740041\ttotal: 58.2ms\tremaining: 233ms\n",
      "10:\tlearn: 19.2568580\ttotal: 64.4ms\tremaining: 228ms\n",
      "11:\tlearn: 17.5175700\ttotal: 71.1ms\tremaining: 225ms\n",
      "12:\tlearn: 16.0302609\ttotal: 80.4ms\tremaining: 229ms\n",
      "13:\tlearn: 14.6818032\ttotal: 88.4ms\tremaining: 227ms\n",
      "14:\tlearn: 13.4788105\ttotal: 94.8ms\tremaining: 221ms\n",
      "15:\tlearn: 12.4154855\ttotal: 99.8ms\tremaining: 212ms\n",
      "16:\tlearn: 11.4543670\ttotal: 105ms\tremaining: 203ms\n",
      "17:\tlearn: 10.6119523\ttotal: 110ms\tremaining: 195ms\n",
      "18:\tlearn: 9.8591339\ttotal: 115ms\tremaining: 187ms\n",
      "19:\tlearn: 9.1635656\ttotal: 120ms\tremaining: 180ms\n",
      "20:\tlearn: 8.6083693\ttotal: 125ms\tremaining: 172ms\n",
      "21:\tlearn: 8.1178051\ttotal: 130ms\tremaining: 165ms\n",
      "22:\tlearn: 7.7090849\ttotal: 135ms\tremaining: 158ms\n",
      "23:\tlearn: 7.3227066\ttotal: 143ms\tremaining: 155ms\n",
      "24:\tlearn: 7.0142423\ttotal: 149ms\tremaining: 149ms\n",
      "25:\tlearn: 6.7338061\ttotal: 153ms\tremaining: 142ms\n",
      "26:\tlearn: 6.4772648\ttotal: 159ms\tremaining: 135ms\n",
      "27:\tlearn: 6.2293241\ttotal: 165ms\tremaining: 130ms\n",
      "28:\tlearn: 6.0738334\ttotal: 170ms\tremaining: 123ms\n",
      "29:\tlearn: 5.7992061\ttotal: 175ms\tremaining: 117ms\n",
      "30:\tlearn: 5.6808438\ttotal: 180ms\tremaining: 110ms\n",
      "31:\tlearn: 5.5486621\ttotal: 185ms\tremaining: 104ms\n",
      "32:\tlearn: 5.4658207\ttotal: 190ms\tremaining: 97.8ms\n",
      "33:\tlearn: 5.3942556\ttotal: 195ms\tremaining: 91.8ms\n",
      "34:\tlearn: 5.2578400\ttotal: 205ms\tremaining: 88ms\n",
      "35:\tlearn: 5.1736280\ttotal: 215ms\tremaining: 83.7ms\n",
      "36:\tlearn: 5.0196818\ttotal: 225ms\tremaining: 79.1ms\n",
      "37:\tlearn: 4.9701378\ttotal: 232ms\tremaining: 73.3ms\n",
      "38:\tlearn: 4.9311219\ttotal: 240ms\tremaining: 67.6ms\n",
      "39:\tlearn: 4.8987497\ttotal: 247ms\tremaining: 61.6ms\n",
      "40:\tlearn: 4.8692169\ttotal: 251ms\tremaining: 55.1ms\n",
      "41:\tlearn: 4.7620310\ttotal: 256ms\tremaining: 48.7ms\n",
      "42:\tlearn: 4.7025968\ttotal: 262ms\tremaining: 42.6ms\n",
      "43:\tlearn: 4.6847557\ttotal: 266ms\tremaining: 36.3ms\n",
      "44:\tlearn: 4.5781346\ttotal: 271ms\tremaining: 30.1ms\n",
      "45:\tlearn: 4.5397660\ttotal: 275ms\tremaining: 23.9ms\n",
      "46:\tlearn: 4.5149390\ttotal: 280ms\tremaining: 17.9ms\n",
      "47:\tlearn: 4.4955446\ttotal: 284ms\tremaining: 11.8ms\n",
      "48:\tlearn: 4.4858595\ttotal: 289ms\tremaining: 5.9ms\n",
      "49:\tlearn: 4.4447068\ttotal: 294ms\tremaining: 0us\n",
      "[55.02947214 64.45235118 64.45235118 64.45235118 64.45235118 64.45235118\n",
      " 64.45235118 64.45235118 64.38033775 64.38033775 64.38033775 64.38033775\n",
      " 64.38033775 54.75540961 54.75540961 64.17828865 64.17828865 64.17828865\n",
      " 64.17828865 64.17828865 64.17828865 64.17828865 64.17861321 64.17861321\n",
      " 64.17861321 64.17861321 54.75573417 64.17861321 64.17861321 54.75573417\n",
      " 63.75973638 63.75973638 63.75973638 63.75973638 54.86981696 63.75973638\n",
      " 64.25797483 64.25797483 64.30168996 64.30168996 64.17419591 64.17419591\n",
      " 64.17419591 64.17419591 64.17419591 64.17419591 64.17419591 64.17419591\n",
      " 64.17419591 64.17419591 64.17419591 64.17419591 55.84460368 64.15762659\n",
      " 64.15762659 64.15762659 64.15762659 64.15762659 64.15762659 64.12198202\n",
      " 64.12198202 64.12198202 55.7923898  55.7923898  64.12198202 64.12198202\n",
      " 64.12198202 64.12198202 55.7923898  64.12198202 55.7923898  64.12198202\n",
      " 64.12198202 64.12198202 56.03258618 64.36217841 64.12198202 64.36217841\n",
      " 64.36217841 64.29410316 64.29410316 64.29410316 64.29410316 55.96451094\n",
      " 64.29410316 55.96451094 55.96451094 55.96451094 64.29410316 60.76709827\n",
      " 61.00694666 52.67735443 52.27151528 52.27151528 63.31318402 63.44632873\n",
      " 63.31318402 63.31318402 63.31318402 63.44632873 63.35304897 63.35304897\n",
      " 63.35304897 63.35304897 63.35304897 63.35304897 55.01956716 63.21990426\n",
      " 63.21990426 63.21990426 63.21990426 63.21990426 63.21990426 63.21990426\n",
      " 63.34739832 63.30368318 63.30368318 63.30368318 63.30368318 62.80544474\n",
      " 62.68043667 62.66334713 53.8997522  62.66334713 62.66334713 54.13295793\n",
      " 54.13295793 63.12538307 63.12538307 56.90516074 56.90516074 56.90516074\n",
      " 48.54962403 48.54962403 56.90516074 56.90516074 56.90516074 48.54962403\n",
      " 56.90516074 48.54962403 56.90516074 48.54962403 56.90516074 56.90516074\n",
      " 56.90516074 56.90516074 56.90516074 48.54962403 56.90516074 56.90516074\n",
      " 56.90516074 56.90516074 48.51172815 48.51172815 48.51172815 56.86726486\n",
      " 56.86726486 57.52380398 64.02093584 64.02093584 64.02093584 64.02093584\n",
      " 64.02093584 63.87893789 63.87893789 63.87893789 63.87893789 63.87893789\n",
      " 63.87893789 63.87893789 63.87893789 63.94160886 63.94160886 64.26271062\n",
      " 64.26271062 64.26271062 64.26271062 64.26271062 64.26271062 64.26271062\n",
      " 64.26271062 64.26271062 64.26271062 64.40590749 64.40590749 57.84610466\n",
      " 57.84610466 64.40590749 64.40590749 64.40590749 64.40590749 64.40590749\n",
      " 64.40590749 64.40590749 57.84610466 64.37441257 64.37441257 64.43130465\n",
      " 64.43130465 64.43130465 64.43130465 64.43130465 64.43130465 64.33802489\n",
      " 64.33802489 64.33802489 64.33802489 64.33802489 64.33802489 64.33802489\n",
      " 64.33802489 64.33802489 64.33802489 64.42180381 64.42180381 64.42180381\n",
      " 64.42180381 64.42180381 64.42180381 64.42180381 63.92356537 63.92356537\n",
      " 63.92356537 63.92356537 63.92356537 64.3424422  64.3424422  56.28986049\n",
      " 64.3424422  64.3424422  64.3424422  64.17761859 64.17729403 64.17729403\n",
      " 64.17729403 64.17729403 64.17729403 64.17729403 64.17729403 64.17729403\n",
      " 64.17729403 64.17729403 64.17729403 64.17729403 64.17729403 64.17729403\n",
      " 64.17729403 64.17729403 59.30819554 59.30819554 59.30819554 59.30819554\n",
      " 59.30819554 51.25561383 51.25561383 59.30819554 59.30819554 59.30819554\n",
      " 59.30819554 59.30819554 59.30819554 59.30819554 59.30819554 59.30819554\n",
      " 59.30819554 59.29297404 59.29297404 59.42222916 59.42222916 59.42222916\n",
      " 59.42222916 59.42222916 59.42222916 59.42222916 59.42222916 59.42222916\n",
      " 51.28537094 51.28537094 59.42222916 59.42222916 51.28537094 51.28537094\n",
      " 51.28537094 51.28537094 51.28537094 51.28537094 51.28537094 51.28537094\n",
      " 59.42222916 59.42222916 59.42222916 59.47411564 59.47411564 59.54098802\n",
      " 59.54098802 59.54098802 59.54098802 59.54098802 59.54098802 51.37877074\n",
      " 51.37877074 51.37877074 51.37877074 59.59259451 59.59259451 59.59259451\n",
      " 59.59259451 59.59259451 59.59259451 59.59259451 59.59259451 59.59259451\n",
      " 59.59259451 59.59259451 59.59259451 59.59259451 59.59259451 59.59259451\n",
      " 59.59259451 59.59259451 59.59259451 59.59259451 51.37877074 59.59259451\n",
      " 59.59259451 59.59259451 59.59259451 59.59259451 59.59259451 59.59259451\n",
      " 59.59259451 51.37877074 59.59259451 59.59259451 59.59259451 59.59259451\n",
      " 59.59259451 59.59259451 59.59259451 59.59259451 59.59259451 59.59259451\n",
      " 59.59259451 59.59259451 59.59259451 59.59259451 59.59259451 59.59259451\n",
      " 59.59259451 59.59259451 59.59259451 59.59259451 59.59259451 59.59259451\n",
      " 59.59259451 59.59259451 59.59259451 59.59259451 59.59259451 59.59259451\n",
      " 51.37877074 59.59259451 51.37877074 51.37877074 59.59259451 59.67775181\n",
      " 59.67775181 59.67775181 59.67775181 59.67775181 51.46392805 51.46392805\n",
      " 59.43856347 59.43856347 59.43856347 59.43856347 59.43856347 59.43856347\n",
      " 59.43856347 59.43856347 59.43856347 59.43856347 59.43856347 59.43856347\n",
      " 59.43856347 59.43856347 59.43856347 59.43856347 59.43856347 59.43856347\n",
      " 59.43856347 59.43856347 59.34695505 59.34695505 59.34695505 59.34695505\n",
      " 59.34695505 59.34695505 59.34695505 59.34695505 59.34695505]\n"
     ]
    }
   ],
   "source": [
    "poly = PolynomialFeatures(degree=2)\n",
    "X_ = poly.fit_transform(train_X)\n",
    "predict_ = poly.fit_transform(test_X)\n",
    "\n",
    "model.fit(X_, train_y)\n",
    "predicted_values_poly=model.predict(predict_)\n",
    "print(predicted_values_poly)"
   ]
  },
  {
   "cell_type": "code",
   "execution_count": 69,
   "metadata": {},
   "outputs": [],
   "source": [
    "mse_poly=mean_squared_error(predicted_values_poly,test_y)\n",
    "r2_score_poly=r2_score(predicted_values_poly,test_y)"
   ]
  },
  {
   "cell_type": "code",
   "execution_count": 72,
   "metadata": {},
   "outputs": [
    {
     "name": "stdout",
     "output_type": "stream",
     "text": [
      "28.94223438517459\n",
      "-0.6995330082707467\n"
     ]
    }
   ],
   "source": [
    "print(mse_poly)\n",
    "print(r2_score_poly)"
   ]
  },
  {
   "cell_type": "markdown",
   "metadata": {},
   "source": [
    "#shuffling with date time"
   ]
  },
  {
   "cell_type": "code",
   "execution_count": 29,
   "metadata": {},
   "outputs": [],
   "source": [
    "#Reading data\n",
    "data1=pd.read_csv('./data/n1.csv')"
   ]
  },
  {
   "cell_type": "code",
   "execution_count": 30,
   "metadata": {},
   "outputs": [],
   "source": [
    "data1['population_type']=data1['noise_value'].apply(lambda x: 1 if x>=61 else 0)"
   ]
  },
  {
   "cell_type": "code",
   "execution_count": 31,
   "metadata": {},
   "outputs": [],
   "source": [
    "data1['timestamp']=pd.to_datetime(data1['timestamp'])\n",
    "data1['year']=data1['timestamp'].dt.year\n",
    "data1['month']=data1['timestamp'].dt.month\n",
    "data1['day']=data1['timestamp'].dt.day\n",
    "data1['hours']=data1['timestamp'].dt.hour\n",
    "data1['minutes']=data1['timestamp'].dt.minute\n",
    "data1['seconds']=data1['timestamp'].dt.second\n"
   ]
  },
  {
   "cell_type": "code",
   "execution_count": 73,
   "metadata": {},
   "outputs": [
    {
     "data": {
      "text/plain": [
       "<matplotlib.axes._subplots.AxesSubplot at 0x7f0888162a90>"
      ]
     },
     "execution_count": 73,
     "metadata": {},
     "output_type": "execute_result"
    },
    {
     "data": {
      "image/png": "[encoded data removed]",
      "text/plain": [
       "<Figure size 1512x1512 with 2 Axes>"
      ]
     },
     "metadata": {},
     "output_type": "display_data"
    }
   ],
   "source": [
    "f= plt.subplots(figsize=(21,21))\n",
    "sns.heatmap(data1.corr(),annot=True,fmt='.1f',color='green')  #Showing correlations"
   ]
  },
  {
   "cell_type": "code",
   "execution_count": 32,
   "metadata": {},
   "outputs": [],
   "source": [
    "train1=data1[0:1596]\n",
    "test1=data1[1596:]"
   ]
  },
  {
   "cell_type": "code",
   "execution_count": 33,
   "metadata": {},
   "outputs": [],
   "source": [
    "from sklearn.utils import shuffle\n",
    "train1 = shuffle(train1)"
   ]
  },
  {
   "cell_type": "code",
   "execution_count": 34,
   "metadata": {},
   "outputs": [
    {
     "data": {
      "text/html": [
       "<div>\n",
       "<style scoped>\n",
       "    .dataframe tbody tr th:only-of-type {\n",
       "        vertical-align: middle;\n",
       "    }\n",
       "\n",
       "    .dataframe tbody tr th {\n",
       "        vertical-align: top;\n",
       "    }\n",
       "\n",
       "    .dataframe thead th {\n",
       "        text-align: right;\n",
       "    }\n",
       "</style>\n",
       "<table border=\"1\" class=\"dataframe\">\n",
       "  <thead>\n",
       "    <tr style=\"text-align: right;\">\n",
       "      <th></th>\n",
       "      <th>username</th>\n",
       "      <th>latitude</th>\n",
       "      <th>longitude</th>\n",
       "      <th>noise_value</th>\n",
       "      <th>timestamp</th>\n",
       "      <th>tolerance_level</th>\n",
       "      <th>noise_category</th>\n",
       "      <th>region_category</th>\n",
       "      <th>aqi_value</th>\n",
       "      <th>population_type</th>\n",
       "      <th>year</th>\n",
       "      <th>month</th>\n",
       "      <th>day</th>\n",
       "      <th>hours</th>\n",
       "      <th>minutes</th>\n",
       "      <th>seconds</th>\n",
       "    </tr>\n",
       "  </thead>\n",
       "  <tbody>\n",
       "    <tr>\n",
       "      <th>181</th>\n",
       "      <td>Abhimanyu</td>\n",
       "      <td>22.503430</td>\n",
       "      <td>88.376192</td>\n",
       "      <td>70.5</td>\n",
       "      <td>2018-01-21 02:22:00</td>\n",
       "      <td>Normal</td>\n",
       "      <td>Traffic</td>\n",
       "      <td>Street/Road</td>\n",
       "      <td>0</td>\n",
       "      <td>1</td>\n",
       "      <td>2018</td>\n",
       "      <td>1</td>\n",
       "      <td>21</td>\n",
       "      <td>2</td>\n",
       "      <td>22</td>\n",
       "      <td>0</td>\n",
       "    </tr>\n",
       "    <tr>\n",
       "      <th>1215</th>\n",
       "      <td>Abhimanyu</td>\n",
       "      <td>22.498003</td>\n",
       "      <td>88.385937</td>\n",
       "      <td>63.8</td>\n",
       "      <td>2018-01-22 02:50:00</td>\n",
       "      <td>Normal</td>\n",
       "      <td>Traffic</td>\n",
       "      <td>Street/Road</td>\n",
       "      <td>0</td>\n",
       "      <td>1</td>\n",
       "      <td>2018</td>\n",
       "      <td>1</td>\n",
       "      <td>22</td>\n",
       "      <td>2</td>\n",
       "      <td>50</td>\n",
       "      <td>0</td>\n",
       "    </tr>\n",
       "    <tr>\n",
       "      <th>562</th>\n",
       "      <td>Abhimanyu</td>\n",
       "      <td>22.497603</td>\n",
       "      <td>88.378925</td>\n",
       "      <td>38.5</td>\n",
       "      <td>2018-01-21 02:54:00</td>\n",
       "      <td>Normal</td>\n",
       "      <td>Traffic</td>\n",
       "      <td>Street/Road</td>\n",
       "      <td>0</td>\n",
       "      <td>0</td>\n",
       "      <td>2018</td>\n",
       "      <td>1</td>\n",
       "      <td>21</td>\n",
       "      <td>2</td>\n",
       "      <td>54</td>\n",
       "      <td>0</td>\n",
       "    </tr>\n",
       "    <tr>\n",
       "      <th>1233</th>\n",
       "      <td>Abhimanyu</td>\n",
       "      <td>22.498365</td>\n",
       "      <td>88.384643</td>\n",
       "      <td>53.4</td>\n",
       "      <td>2018-01-22 02:52:00</td>\n",
       "      <td>Normal</td>\n",
       "      <td>Traffic</td>\n",
       "      <td>Street/Road</td>\n",
       "      <td>0</td>\n",
       "      <td>0</td>\n",
       "      <td>2018</td>\n",
       "      <td>1</td>\n",
       "      <td>22</td>\n",
       "      <td>2</td>\n",
       "      <td>52</td>\n",
       "      <td>0</td>\n",
       "    </tr>\n",
       "    <tr>\n",
       "      <th>1421</th>\n",
       "      <td>Abhimanyu</td>\n",
       "      <td>22.492417</td>\n",
       "      <td>88.387252</td>\n",
       "      <td>57.4</td>\n",
       "      <td>2018-01-23 02:15:00</td>\n",
       "      <td>Normal</td>\n",
       "      <td>Traffic</td>\n",
       "      <td>Street/Road</td>\n",
       "      <td>0</td>\n",
       "      <td>0</td>\n",
       "      <td>2018</td>\n",
       "      <td>1</td>\n",
       "      <td>23</td>\n",
       "      <td>2</td>\n",
       "      <td>15</td>\n",
       "      <td>0</td>\n",
       "    </tr>\n",
       "  </tbody>\n",
       "</table>\n",
       "</div>"
      ],
      "text/plain": [
       "       username   latitude  longitude  noise_value           timestamp  \\\n",
       "181   Abhimanyu  22.503430  88.376192         70.5 2018-01-21 02:22:00   \n",
       "1215  Abhimanyu  22.498003  88.385937         63.8 2018-01-22 02:50:00   \n",
       "562   Abhimanyu  22.497603  88.378925         38.5 2018-01-21 02:54:00   \n",
       "1233  Abhimanyu  22.498365  88.384643         53.4 2018-01-22 02:52:00   \n",
       "1421  Abhimanyu  22.492417  88.387252         57.4 2018-01-23 02:15:00   \n",
       "\n",
       "     tolerance_level noise_category region_category  aqi_value  \\\n",
       "181           Normal        Traffic     Street/Road          0   \n",
       "1215          Normal        Traffic     Street/Road          0   \n",
       "562           Normal        Traffic     Street/Road          0   \n",
       "1233          Normal        Traffic     Street/Road          0   \n",
       "1421          Normal        Traffic     Street/Road          0   \n",
       "\n",
       "      population_type  year  month  day  hours  minutes  seconds  \n",
       "181                 1  2018      1   21      2       22        0  \n",
       "1215                1  2018      1   22      2       50        0  \n",
       "562                 0  2018      1   21      2       54        0  \n",
       "1233                0  2018      1   22      2       52        0  \n",
       "1421                0  2018      1   23      2       15        0  "
      ]
     },
     "execution_count": 34,
     "metadata": {},
     "output_type": "execute_result"
    }
   ],
   "source": [
    "train1.head(5)"
   ]
  },
  {
   "cell_type": "code",
   "execution_count": 35,
   "metadata": {},
   "outputs": [],
   "source": [
    "train_y1=train1.noise_value\n",
    "test_y1=test1.noise_value"
   ]
  },
  {
   "cell_type": "code",
   "execution_count": 36,
   "metadata": {},
   "outputs": [
    {
     "name": "stderr",
     "output_type": "stream",
     "text": [
      "/home/riktim/anaconda3/envs/jde/lib/python3.6/site-packages/pandas/core/frame.py:3697: SettingWithCopyWarning: \n",
      "A value is trying to be set on a copy of a slice from a DataFrame\n",
      "\n",
      "See the caveats in the documentation: http://pandas.pydata.org/pandas-docs/stable/indexing.html#indexing-view-versus-copy\n",
      "  errors=errors)\n"
     ]
    }
   ],
   "source": [
    "columns = ['username','noise_value','tolerance_level','noise_category', 'region_category', 'aqi_value','timestamp']\n",
    "train1.drop(columns,axis=1,inplace=True)\n",
    "test1.drop(columns,axis=1,inplace=True)"
   ]
  },
  {
   "cell_type": "code",
   "execution_count": 37,
   "metadata": {},
   "outputs": [],
   "source": [
    "train_X1=train1\n",
    "test_X1=test1"
   ]
  },
  {
   "cell_type": "code",
   "execution_count": 38,
   "metadata": {},
   "outputs": [],
   "source": [
    "predicted_values1=list()\n",
    "R2_scores1=list()\n",
    "mse_values1=list()"
   ]
  },
  {
   "cell_type": "code",
   "execution_count": 39,
   "metadata": {},
   "outputs": [
    {
     "name": "stderr",
     "output_type": "stream",
     "text": [
      "/home/riktim/anaconda3/envs/jde/lib/python3.6/site-packages/sklearn/linear_model/stochastic_gradient.py:128: FutureWarning: max_iter and tol parameters have been added in <class 'sklearn.linear_model.stochastic_gradient.SGDRegressor'> in 0.19. If both are left unset, they default to max_iter=5 and tol=None. If tol is not None, max_iter defaults to max_iter=1000. From 0.21, default max_iter will be 1000, and default tol will be 1e-3.\n",
      "  \"and default tol will be 1e-3.\" % type(self), FutureWarning)\n",
      "/home/riktim/anaconda3/envs/jde/lib/python3.6/site-packages/sklearn/linear_model/stochastic_gradient.py:128: FutureWarning: max_iter and tol parameters have been added in <class 'sklearn.linear_model.passive_aggressive.PassiveAggressiveRegressor'> in 0.19. If both are left unset, they default to max_iter=5 and tol=None. If tol is not None, max_iter defaults to max_iter=1000. From 0.21, default max_iter will be 1000, and default tol will be 1e-3.\n",
      "  \"and default tol will be 1e-3.\" % type(self), FutureWarning)\n"
     ]
    },
    {
     "name": "stdout",
     "output_type": "stream",
     "text": [
      "0:\tlearn: 51.8055752\ttotal: 6.3ms\tremaining: 309ms\n",
      "1:\tlearn: 46.8037301\ttotal: 15ms\tremaining: 360ms\n",
      "2:\tlearn: 42.3092276\ttotal: 18.5ms\tremaining: 290ms\n",
      "3:\tlearn: 38.2188237\ttotal: 20.8ms\tremaining: 240ms\n",
      "4:\tlearn: 34.5515415\ttotal: 23.3ms\tremaining: 210ms\n",
      "5:\tlearn: 31.2767374\ttotal: 27.8ms\tremaining: 204ms\n",
      "6:\tlearn: 28.3131980\ttotal: 33.2ms\tremaining: 204ms\n",
      "7:\tlearn: 25.6477964\ttotal: 37.7ms\tremaining: 198ms\n",
      "8:\tlearn: 23.2445413\ttotal: 40.2ms\tremaining: 183ms\n",
      "9:\tlearn: 21.1172646\ttotal: 43.7ms\tremaining: 175ms\n",
      "10:\tlearn: 19.2020892\ttotal: 46.1ms\tremaining: 163ms\n",
      "11:\tlearn: 17.4917736\ttotal: 49.3ms\tremaining: 156ms\n",
      "12:\tlearn: 15.9751757\ttotal: 51.7ms\tremaining: 147ms\n",
      "13:\tlearn: 14.6202078\ttotal: 53.9ms\tremaining: 139ms\n",
      "14:\tlearn: 13.4043957\ttotal: 56.4ms\tremaining: 132ms\n",
      "15:\tlearn: 12.3477200\ttotal: 59.1ms\tremaining: 126ms\n",
      "16:\tlearn: 11.4352811\ttotal: 61.3ms\tremaining: 119ms\n",
      "17:\tlearn: 10.5432290\ttotal: 63.7ms\tremaining: 113ms\n",
      "18:\tlearn: 9.7906587\ttotal: 66ms\tremaining: 108ms\n",
      "19:\tlearn: 9.1475795\ttotal: 68.6ms\tremaining: 103ms\n",
      "20:\tlearn: 8.6023464\ttotal: 71.2ms\tremaining: 98.3ms\n",
      "21:\tlearn: 8.1022956\ttotal: 73.6ms\tremaining: 93.7ms\n",
      "22:\tlearn: 7.6479709\ttotal: 76.1ms\tremaining: 89.3ms\n",
      "23:\tlearn: 7.2465466\ttotal: 78.8ms\tremaining: 85.3ms\n",
      "24:\tlearn: 6.8392809\ttotal: 81.4ms\tremaining: 81.4ms\n",
      "25:\tlearn: 6.5636171\ttotal: 83.7ms\tremaining: 77.3ms\n",
      "26:\tlearn: 6.3153250\ttotal: 86.1ms\tremaining: 73.4ms\n",
      "27:\tlearn: 6.1271830\ttotal: 89.2ms\tremaining: 70.1ms\n",
      "28:\tlearn: 5.9607287\ttotal: 92.2ms\tremaining: 66.8ms\n",
      "29:\tlearn: 5.8080047\ttotal: 98.2ms\tremaining: 65.4ms\n",
      "30:\tlearn: 5.6801016\ttotal: 101ms\tremaining: 61.9ms\n",
      "31:\tlearn: 5.5720881\ttotal: 104ms\tremaining: 58.4ms\n",
      "32:\tlearn: 5.4740439\ttotal: 107ms\tremaining: 54.9ms\n",
      "33:\tlearn: 5.3999113\ttotal: 110ms\tremaining: 51.8ms\n",
      "34:\tlearn: 5.3074937\ttotal: 113ms\tremaining: 48.4ms\n",
      "35:\tlearn: 5.2475009\ttotal: 116ms\tremaining: 44.9ms\n",
      "36:\tlearn: 5.2032773\ttotal: 118ms\tremaining: 41.5ms\n",
      "37:\tlearn: 5.1601559\ttotal: 121ms\tremaining: 38.1ms\n",
      "38:\tlearn: 5.0378797\ttotal: 123ms\tremaining: 34.7ms\n",
      "39:\tlearn: 5.0106334\ttotal: 125ms\tremaining: 31.3ms\n",
      "40:\tlearn: 4.9512687\ttotal: 128ms\tremaining: 28.1ms\n",
      "41:\tlearn: 4.8411733\ttotal: 130ms\tremaining: 24.8ms\n",
      "42:\tlearn: 4.7989785\ttotal: 133ms\tremaining: 21.7ms\n",
      "43:\tlearn: 4.7809577\ttotal: 135ms\tremaining: 18.5ms\n",
      "44:\tlearn: 4.7675980\ttotal: 138ms\tremaining: 15.3ms\n",
      "45:\tlearn: 4.7553826\ttotal: 140ms\tremaining: 12.2ms\n",
      "46:\tlearn: 4.6727730\ttotal: 143ms\tremaining: 9.12ms\n",
      "47:\tlearn: 4.6574606\ttotal: 145ms\tremaining: 6.06ms\n",
      "48:\tlearn: 4.6491111\ttotal: 148ms\tremaining: 3.02ms\n",
      "49:\tlearn: 4.6085462\ttotal: 150ms\tremaining: 0us\n"
     ]
    }
   ],
   "source": [
    "for model in regressors:\n",
    "    model.fit(train_X1,train_y1)\n",
    "    predicted_noise1=model.predict(test_X1)\n",
    "    predicted_values1.append(predicted_noise1)\n",
    "    R2_scores1.append(r2_score(predicted_noise1,test_y1))\n",
    "    mse_values1.append(mean_squared_error(predicted_noise1,test_y1))"
   ]
  },
  {
   "cell_type": "code",
   "execution_count": 40,
   "metadata": {},
   "outputs": [
    {
     "data": {
      "text/plain": [
       "[67.17274234016982,\n",
       " 13.989342629285202,\n",
       " 68.10285315066429,\n",
       " 1.396394241937932e+31,\n",
       " 323.4497273484973,\n",
       " 18.705611133833,\n",
       " 341.3279072925704,\n",
       " 24.683178744202756,\n",
       " 289.8736691481275,\n",
       " 349.1585690612315,\n",
       " 68.10285315066429,\n",
       " 21.536860626212235,\n",
       " 31.2492319201995,\n",
       " 12.996988029925193,\n",
       " 13.274513209113213,\n",
       " 9.629377442057958,\n",
       " 34.636729560573585]"
      ]
     },
     "execution_count": 40,
     "metadata": {},
     "output_type": "execute_result"
    }
   ],
   "source": [
    "mse_values1"
   ]
  },
  {
   "cell_type": "code",
   "execution_count": 41,
   "metadata": {},
   "outputs": [
    {
     "data": {
      "text/plain": [
       "[-54.52307630762254,\n",
       " 0.25777865920037446,\n",
       " -1.4987955325294194e+29,\n",
       " -217708.18112780692,\n",
       " -1.3776121560861347,\n",
       " -0.40623398580776104,\n",
       " -1.3991623017671166,\n",
       " -26.648307664445397,\n",
       " -1.4859163862099636,\n",
       " -1.4158173221659052,\n",
       " -1.4987955325294194e+29,\n",
       " 0.351305438586891,\n",
       " -0.2740154945618509,\n",
       " 0.33391924771139814,\n",
       " 0.024748822126965053,\n",
       " 0.13487832002800948,\n",
       " -0.7981719508477261]"
      ]
     },
     "execution_count": 41,
     "metadata": {},
     "output_type": "execute_result"
    }
   ],
   "source": [
    "R2_scores1"
   ]
  },
  {
   "cell_type": "markdown",
   "metadata": {},
   "source": [
    "#Using date and time in different format\n"
   ]
  },
  {
   "cell_type": "code",
   "execution_count": 74,
   "metadata": {},
   "outputs": [],
   "source": [
    "data2=pd.read_csv('./data/n1.csv')"
   ]
  },
  {
   "cell_type": "code",
   "execution_count": 75,
   "metadata": {},
   "outputs": [],
   "source": [
    "data2['population_type']=data2['noise_value'].apply(lambda x: 1 if x>=58 else 0)"
   ]
  },
  {
   "cell_type": "code",
   "execution_count": 91,
   "metadata": {},
   "outputs": [],
   "source": [
    "s=data2['timestamp'].tolist()"
   ]
  },
  {
   "cell_type": "code",
   "execution_count": 97,
   "metadata": {},
   "outputs": [],
   "source": [
    "d=list()\n",
    "for i in range(len(s)):\n",
    "    d.append(s[i].split(' '))"
   ]
  },
  {
   "cell_type": "code",
   "execution_count": 121,
   "metadata": {},
   "outputs": [],
   "source": [
    "date=list()\n",
    "time=list()\n",
    "for i,TM in enumerate(d):\n",
    "    date.append(TM[0])\n",
    "    time.append(TM[1])\n",
    "    "
   ]
  },
  {
   "cell_type": "code",
   "execution_count": 135,
   "metadata": {},
   "outputs": [],
   "source": [
    "for i in range(len(date)):\n",
    "    date[i]=int(date[i].replace(\"-\",\"\"))\n",
    "    time[i]=int(time[i].replace(\":\",\"\"))"
   ]
  },
  {
   "cell_type": "code",
   "execution_count": 136,
   "metadata": {},
   "outputs": [],
   "source": [
    "data2['data']=date\n",
    "data2['time']=time"
   ]
  },
  {
   "cell_type": "code",
   "execution_count": 137,
   "metadata": {},
   "outputs": [
    {
     "data": {
      "text/html": [
       "<div>\n",
       "<style scoped>\n",
       "    .dataframe tbody tr th:only-of-type {\n",
       "        vertical-align: middle;\n",
       "    }\n",
       "\n",
       "    .dataframe tbody tr th {\n",
       "        vertical-align: top;\n",
       "    }\n",
       "\n",
       "    .dataframe thead th {\n",
       "        text-align: right;\n",
       "    }\n",
       "</style>\n",
       "<table border=\"1\" class=\"dataframe\">\n",
       "  <thead>\n",
       "    <tr style=\"text-align: right;\">\n",
       "      <th></th>\n",
       "      <th>username</th>\n",
       "      <th>latitude</th>\n",
       "      <th>longitude</th>\n",
       "      <th>noise_value</th>\n",
       "      <th>timestamp</th>\n",
       "      <th>tolerance_level</th>\n",
       "      <th>noise_category</th>\n",
       "      <th>region_category</th>\n",
       "      <th>aqi_value</th>\n",
       "      <th>population_type</th>\n",
       "      <th>data</th>\n",
       "      <th>time</th>\n",
       "    </tr>\n",
       "  </thead>\n",
       "  <tbody>\n",
       "    <tr>\n",
       "      <th>0</th>\n",
       "      <td>Abhimanyu</td>\n",
       "      <td>22.498528</td>\n",
       "      <td>88.383528</td>\n",
       "      <td>32.6</td>\n",
       "      <td>21-01-2018 02:01</td>\n",
       "      <td>Normal</td>\n",
       "      <td>Traffic</td>\n",
       "      <td>Street/Road</td>\n",
       "      <td>0</td>\n",
       "      <td>0</td>\n",
       "      <td>21012018</td>\n",
       "      <td>201</td>\n",
       "    </tr>\n",
       "    <tr>\n",
       "      <th>1</th>\n",
       "      <td>Abhimanyu</td>\n",
       "      <td>22.498607</td>\n",
       "      <td>88.383522</td>\n",
       "      <td>59.8</td>\n",
       "      <td>21-01-2018 02:01</td>\n",
       "      <td>Normal</td>\n",
       "      <td>Traffic</td>\n",
       "      <td>Street/Road</td>\n",
       "      <td>0</td>\n",
       "      <td>1</td>\n",
       "      <td>21012018</td>\n",
       "      <td>201</td>\n",
       "    </tr>\n",
       "  </tbody>\n",
       "</table>\n",
       "</div>"
      ],
      "text/plain": [
       "    username   latitude  longitude  noise_value         timestamp  \\\n",
       "0  Abhimanyu  22.498528  88.383528         32.6  21-01-2018 02:01   \n",
       "1  Abhimanyu  22.498607  88.383522         59.8  21-01-2018 02:01   \n",
       "\n",
       "  tolerance_level noise_category region_category  aqi_value  population_type  \\\n",
       "0          Normal        Traffic     Street/Road          0                0   \n",
       "1          Normal        Traffic     Street/Road          0                1   \n",
       "\n",
       "       data  time  \n",
       "0  21012018   201  \n",
       "1  21012018   201  "
      ]
     },
     "execution_count": 137,
     "metadata": {},
     "output_type": "execute_result"
    }
   ],
   "source": [
    "data2.head(2)"
   ]
  },
  {
   "cell_type": "code",
   "execution_count": 138,
   "metadata": {},
   "outputs": [
    {
     "name": "stdout",
     "output_type": "stream",
     "text": [
      "<class 'pandas.core.frame.DataFrame'>\n",
      "RangeIndex: 1997 entries, 0 to 1996\n",
      "Data columns (total 12 columns):\n",
      "username           1997 non-null object\n",
      "latitude           1997 non-null float64\n",
      "longitude          1997 non-null float64\n",
      "noise_value        1997 non-null float64\n",
      "timestamp          1997 non-null object\n",
      "tolerance_level    1997 non-null object\n",
      "noise_category     1997 non-null object\n",
      "region_category    1997 non-null object\n",
      "aqi_value          1997 non-null int64\n",
      "population_type    1997 non-null int64\n",
      "data               1997 non-null int64\n",
      "time               1997 non-null int64\n",
      "dtypes: float64(3), int64(4), object(5)\n",
      "memory usage: 187.3+ KB\n"
     ]
    }
   ],
   "source": [
    "data2.info()"
   ]
  },
  {
   "cell_type": "code",
   "execution_count": 141,
   "metadata": {},
   "outputs": [],
   "source": [
    "train2=data2[0:1596]\n",
    "test2=data2[1596:]"
   ]
  },
  {
   "cell_type": "code",
   "execution_count": 142,
   "metadata": {},
   "outputs": [],
   "source": [
    "train_y2=train2.noise_value\n",
    "test_y2=test2.noise_value"
   ]
  },
  {
   "cell_type": "code",
   "execution_count": 143,
   "metadata": {},
   "outputs": [
    {
     "name": "stderr",
     "output_type": "stream",
     "text": [
      "/home/riktim/anaconda3/envs/jde/lib/python3.6/site-packages/pandas/core/frame.py:3697: SettingWithCopyWarning: \n",
      "A value is trying to be set on a copy of a slice from a DataFrame\n",
      "\n",
      "See the caveats in the documentation: http://pandas.pydata.org/pandas-docs/stable/indexing.html#indexing-view-versus-copy\n",
      "  errors=errors)\n"
     ]
    }
   ],
   "source": [
    "columns = ['username','noise_value','tolerance_level','noise_category', 'region_category', 'aqi_value','timestamp']\n",
    "train2.drop(columns,axis=1,inplace=True)\n",
    "test2.drop(columns,axis=1,inplace=True)"
   ]
  },
  {
   "cell_type": "code",
   "execution_count": 144,
   "metadata": {},
   "outputs": [],
   "source": [
    "train_X2=train2\n",
    "test_X2=test2"
   ]
  },
  {
   "cell_type": "code",
   "execution_count": 145,
   "metadata": {},
   "outputs": [],
   "source": [
    "predicted_values2=list()\n",
    "R2_scores2=list()\n",
    "mse_values2=list()"
   ]
  },
  {
   "cell_type": "code",
   "execution_count": 146,
   "metadata": {},
   "outputs": [
    {
     "name": "stderr",
     "output_type": "stream",
     "text": [
      "/home/riktim/anaconda3/envs/jde/lib/python3.6/site-packages/sklearn/linear_model/stochastic_gradient.py:128: FutureWarning: max_iter and tol parameters have been added in <class 'sklearn.linear_model.stochastic_gradient.SGDRegressor'> in 0.19. If both are left unset, they default to max_iter=5 and tol=None. If tol is not None, max_iter defaults to max_iter=1000. From 0.21, default max_iter will be 1000, and default tol will be 1e-3.\n",
      "  \"and default tol will be 1e-3.\" % type(self), FutureWarning)\n",
      "/home/riktim/anaconda3/envs/jde/lib/python3.6/site-packages/sklearn/linear_model/stochastic_gradient.py:128: FutureWarning: max_iter and tol parameters have been added in <class 'sklearn.linear_model.passive_aggressive.PassiveAggressiveRegressor'> in 0.19. If both are left unset, they default to max_iter=5 and tol=None. If tol is not None, max_iter defaults to max_iter=1000. From 0.21, default max_iter will be 1000, and default tol will be 1e-3.\n",
      "  \"and default tol will be 1e-3.\" % type(self), FutureWarning)\n"
     ]
    },
    {
     "name": "stdout",
     "output_type": "stream",
     "text": [
      "0:\tlearn: 51.8199472\ttotal: 4.1ms\tremaining: 201ms\n",
      "1:\tlearn: 46.7607755\ttotal: 8.87ms\tremaining: 213ms\n",
      "2:\tlearn: 42.2536709\ttotal: 11.8ms\tremaining: 185ms\n",
      "3:\tlearn: 38.2067488\ttotal: 14.8ms\tremaining: 170ms\n",
      "4:\tlearn: 34.4925351\ttotal: 17.6ms\tremaining: 158ms\n",
      "5:\tlearn: 31.2183930\ttotal: 20.4ms\tremaining: 150ms\n",
      "6:\tlearn: 28.2347417\ttotal: 23.5ms\tremaining: 144ms\n",
      "7:\tlearn: 25.5957285\ttotal: 26.1ms\tremaining: 137ms\n",
      "8:\tlearn: 23.1982741\ttotal: 29ms\tremaining: 132ms\n",
      "9:\tlearn: 21.0286191\ttotal: 31.2ms\tremaining: 125ms\n",
      "10:\tlearn: 19.0882758\ttotal: 33.9ms\tremaining: 120ms\n",
      "11:\tlearn: 17.3563238\ttotal: 36.8ms\tremaining: 117ms\n",
      "12:\tlearn: 15.8227449\ttotal: 39.8ms\tremaining: 113ms\n",
      "13:\tlearn: 14.4527967\ttotal: 43.3ms\tremaining: 111ms\n",
      "14:\tlearn: 13.2387004\ttotal: 46ms\tremaining: 107ms\n",
      "15:\tlearn: 12.1436209\ttotal: 49ms\tremaining: 104ms\n",
      "16:\tlearn: 11.1878294\ttotal: 51.9ms\tremaining: 101ms\n",
      "17:\tlearn: 10.3453109\ttotal: 59.5ms\tremaining: 106ms\n",
      "18:\tlearn: 9.6024630\ttotal: 62.4ms\tremaining: 102ms\n",
      "19:\tlearn: 8.9393119\ttotal: 65.6ms\tremaining: 98.5ms\n",
      "20:\tlearn: 8.3809220\ttotal: 68.6ms\tremaining: 94.7ms\n",
      "21:\tlearn: 7.8792032\ttotal: 73.6ms\tremaining: 93.7ms\n",
      "22:\tlearn: 7.4708285\ttotal: 76.9ms\tremaining: 90.2ms\n",
      "23:\tlearn: 7.0848100\ttotal: 79.4ms\tremaining: 86.1ms\n",
      "24:\tlearn: 6.7094256\ttotal: 82.5ms\tremaining: 82.5ms\n",
      "25:\tlearn: 6.4417910\ttotal: 85.9ms\tremaining: 79.3ms\n",
      "26:\tlearn: 6.1851060\ttotal: 88.4ms\tremaining: 75.3ms\n",
      "27:\tlearn: 5.9541977\ttotal: 91.2ms\tremaining: 71.6ms\n",
      "28:\tlearn: 5.7725386\ttotal: 93.8ms\tremaining: 67.9ms\n",
      "29:\tlearn: 5.6250340\ttotal: 96.8ms\tremaining: 64.5ms\n",
      "30:\tlearn: 5.4985344\ttotal: 99.4ms\tremaining: 60.9ms\n",
      "31:\tlearn: 5.4039190\ttotal: 104ms\tremaining: 58.7ms\n",
      "32:\tlearn: 5.2900082\ttotal: 110ms\tremaining: 56.7ms\n",
      "33:\tlearn: 5.1957476\ttotal: 116ms\tremaining: 54.5ms\n",
      "34:\tlearn: 5.1175180\ttotal: 119ms\tremaining: 51.1ms\n",
      "35:\tlearn: 4.9840974\ttotal: 122ms\tremaining: 47.5ms\n",
      "36:\tlearn: 4.8929698\ttotal: 125ms\tremaining: 44ms\n",
      "37:\tlearn: 4.8383795\ttotal: 128ms\tremaining: 40.5ms\n",
      "38:\tlearn: 4.7154394\ttotal: 131ms\tremaining: 36.9ms\n",
      "39:\tlearn: 4.6711117\ttotal: 134ms\tremaining: 33.5ms\n",
      "40:\tlearn: 4.5600760\ttotal: 137ms\tremaining: 30.1ms\n",
      "41:\tlearn: 4.5141762\ttotal: 140ms\tremaining: 26.6ms\n",
      "42:\tlearn: 4.4975134\ttotal: 143ms\tremaining: 23.2ms\n",
      "43:\tlearn: 4.4521705\ttotal: 146ms\tremaining: 19.8ms\n",
      "44:\tlearn: 4.4127288\ttotal: 149ms\tremaining: 16.5ms\n",
      "45:\tlearn: 4.4056879\ttotal: 151ms\tremaining: 13.1ms\n",
      "46:\tlearn: 4.3624499\ttotal: 154ms\tremaining: 9.84ms\n",
      "47:\tlearn: 4.3076257\ttotal: 157ms\tremaining: 6.54ms\n",
      "48:\tlearn: 4.2802854\ttotal: 160ms\tremaining: 3.26ms\n",
      "49:\tlearn: 4.2211101\ttotal: 164ms\tremaining: 0us\n"
     ]
    }
   ],
   "source": [
    "for model in regressors:\n",
    "    model.fit(train_X2,train_y2)\n",
    "    predicted_noise2=model.predict(test_X2)\n",
    "    predicted_values2.append(predicted_noise2)\n",
    "    R2_scores2.append(r2_score(predicted_noise2,test_y2))\n",
    "    mse_values2.append(mean_squared_error(predicted_noise2,test_y2))\n"
   ]
  },
  {
   "cell_type": "code",
   "execution_count": 147,
   "metadata": {},
   "outputs": [
    {
     "data": {
      "text/plain": [
       "[65.00658161219008,\n",
       " 12.360120058232786,\n",
       " 68.10285315066429,\n",
       " 2.4199152022601236e+47,\n",
       " 259.5454902052311,\n",
       " 56.74837062348373,\n",
       " 13.44118647297618,\n",
       " 317.7084292830227,\n",
       " 128622.55024765487,\n",
       " 278.2967638313786,\n",
       " 68.10285315066429,\n",
       " 34.97062344139651,\n",
       " 18.38122493765587,\n",
       " 15.708757605985022,\n",
       " 19.01557926811441,\n",
       " 19.70648553479182,\n",
       " 42.0983623616765]"
      ]
     },
     "execution_count": 147,
     "metadata": {},
     "output_type": "execute_result"
    }
   ],
   "source": [
    "mse_values2"
   ]
  },
  {
   "cell_type": "code",
   "execution_count": 148,
   "metadata": {},
   "outputs": [
    {
     "data": {
      "text/plain": [
       "[-76.52094776438108,\n",
       " -3.2415749621774257,\n",
       " -1.4987955325294194e+29,\n",
       " -169.86975059317666,\n",
       " -1.6912639611440277,\n",
       " -0.48227289366952397,\n",
       " -1.7811402120960196,\n",
       " -23.570930939371223,\n",
       " -3.6122632718956407,\n",
       " -1.7135460045310462,\n",
       " -1.4987955325294194e+29,\n",
       " -3.037877184210531,\n",
       " -4.29083356700536,\n",
       " -1.8565611499665269,\n",
       " -2.5240657264063677,\n",
       " -5.757682678197267,\n",
       " -2.471662133753739]"
      ]
     },
     "execution_count": 148,
     "metadata": {},
     "output_type": "execute_result"
    }
   ],
   "source": [
    "R2_scores2"
   ]
  },
  {
   "cell_type": "code",
   "execution_count": 164,
   "metadata": {},
   "outputs": [
    {
     "name": "stdout",
     "output_type": "stream",
     "text": [
      "0:\tlearn: 51.8002711\ttotal: 17.2ms\tremaining: 843ms\n",
      "1:\tlearn: 46.8095736\ttotal: 33.3ms\tremaining: 798ms\n",
      "2:\tlearn: 42.2901450\ttotal: 49.1ms\tremaining: 770ms\n",
      "3:\tlearn: 38.2060303\ttotal: 68.5ms\tremaining: 788ms\n",
      "4:\tlearn: 34.5403656\ttotal: 83.9ms\tremaining: 755ms\n",
      "5:\tlearn: 31.2519407\ttotal: 99ms\tremaining: 726ms\n",
      "6:\tlearn: 28.2761698\ttotal: 114ms\tremaining: 699ms\n",
      "7:\tlearn: 25.6043357\ttotal: 128ms\tremaining: 673ms\n",
      "8:\tlearn: 23.2196696\ttotal: 143ms\tremaining: 650ms\n",
      "9:\tlearn: 21.0784610\ttotal: 159ms\tremaining: 636ms\n",
      "10:\tlearn: 19.1331270\ttotal: 178ms\tremaining: 630ms\n",
      "11:\tlearn: 17.4131435\ttotal: 191ms\tremaining: 606ms\n",
      "12:\tlearn: 15.8903762\ttotal: 205ms\tremaining: 583ms\n",
      "13:\tlearn: 14.5216562\ttotal: 220ms\tremaining: 566ms\n",
      "14:\tlearn: 13.3145575\ttotal: 243ms\tremaining: 567ms\n",
      "15:\tlearn: 12.2581972\ttotal: 259ms\tremaining: 551ms\n",
      "16:\tlearn: 11.3264445\ttotal: 273ms\tremaining: 530ms\n",
      "17:\tlearn: 10.4742314\ttotal: 286ms\tremaining: 508ms\n",
      "18:\tlearn: 9.7323694\ttotal: 299ms\tremaining: 488ms\n",
      "19:\tlearn: 9.0818477\ttotal: 312ms\tremaining: 468ms\n",
      "20:\tlearn: 8.5079437\ttotal: 325ms\tremaining: 448ms\n",
      "21:\tlearn: 7.9418448\ttotal: 338ms\tremaining: 430ms\n",
      "22:\tlearn: 7.4682812\ttotal: 351ms\tremaining: 412ms\n",
      "23:\tlearn: 7.0694750\ttotal: 364ms\tremaining: 394ms\n",
      "24:\tlearn: 6.6588788\ttotal: 377ms\tremaining: 377ms\n",
      "25:\tlearn: 6.3674362\ttotal: 390ms\tremaining: 360ms\n",
      "26:\tlearn: 6.0795375\ttotal: 402ms\tremaining: 343ms\n",
      "27:\tlearn: 5.8746781\ttotal: 416ms\tremaining: 327ms\n",
      "28:\tlearn: 5.6857584\ttotal: 432ms\tremaining: 313ms\n",
      "29:\tlearn: 5.5485019\ttotal: 449ms\tremaining: 300ms\n",
      "30:\tlearn: 5.3572347\ttotal: 466ms\tremaining: 285ms\n",
      "31:\tlearn: 5.1811119\ttotal: 479ms\tremaining: 269ms\n",
      "32:\tlearn: 5.0469199\ttotal: 492ms\tremaining: 254ms\n",
      "33:\tlearn: 4.9519759\ttotal: 505ms\tremaining: 238ms\n",
      "34:\tlearn: 4.8462607\ttotal: 518ms\tremaining: 222ms\n",
      "35:\tlearn: 4.7266089\ttotal: 531ms\tremaining: 206ms\n",
      "36:\tlearn: 4.6653381\ttotal: 543ms\tremaining: 191ms\n",
      "37:\tlearn: 4.6183208\ttotal: 556ms\tremaining: 176ms\n",
      "38:\tlearn: 4.5475989\ttotal: 569ms\tremaining: 161ms\n",
      "39:\tlearn: 4.4791079\ttotal: 582ms\tremaining: 146ms\n",
      "40:\tlearn: 4.4384981\ttotal: 595ms\tremaining: 131ms\n",
      "41:\tlearn: 4.3782809\ttotal: 608ms\tremaining: 116ms\n",
      "42:\tlearn: 4.3089629\ttotal: 621ms\tremaining: 101ms\n",
      "43:\tlearn: 4.2485736\ttotal: 641ms\tremaining: 87.4ms\n",
      "44:\tlearn: 4.2225967\ttotal: 664ms\tremaining: 73.8ms\n",
      "45:\tlearn: 4.1974596\ttotal: 679ms\tremaining: 59.1ms\n",
      "46:\tlearn: 4.1485657\ttotal: 696ms\tremaining: 44.5ms\n",
      "47:\tlearn: 4.1157384\ttotal: 710ms\tremaining: 29.6ms\n",
      "48:\tlearn: 4.0993166\ttotal: 723ms\tremaining: 14.8ms\n",
      "49:\tlearn: 4.0626353\ttotal: 736ms\tremaining: 0us\n",
      "[63.82412652 63.82412652 63.82412652 63.82412652 63.72049905 63.82412652\n",
      " 63.72049905 63.72049905 63.72049905 63.72049905 63.72049905 63.72049905\n",
      " 63.72049905 63.16860998 63.16860998 63.04833855 63.04833855 63.04833855\n",
      " 63.04833855 63.04833855 63.04833855 63.04833855 63.01812736 63.01812736\n",
      " 63.01812736 63.01812736 63.01812736 63.01812736 63.01812736 59.71676504\n",
      " 59.71676504 59.71676504 59.71676504 59.71676504 59.71676504 59.71676504\n",
      " 59.71676504 59.71676504 59.71676504 59.84389403 59.84389403 59.84389403\n",
      " 59.84389403 59.84389403 59.84389403 59.84389403 59.84389403 59.84389403\n",
      " 59.84389403 59.84389403 59.84389403 59.84389403 59.84389403 59.84389403\n",
      " 59.84389403 59.84389403 59.84389403 59.84389403 59.80748535 59.68701906\n",
      " 59.68701906 59.68701906 59.68701906 59.68701906 59.68701906 59.68701906\n",
      " 59.68701906 59.69406087 59.69406087 59.69406087 59.69406087 59.69406087\n",
      " 59.69406087 59.69406087 59.69406087 59.69406087 59.69406087 59.69406087\n",
      " 59.69406087 59.69406087 59.69406087 59.69406087 59.69406087 59.69406087\n",
      " 59.69406087 59.69406087 59.69406087 59.69406087 59.69406087 59.69406087\n",
      " 59.37787455 59.37787455 49.42522009 59.6074518  59.6074518  59.6074518\n",
      " 59.64386048 59.64386048 59.64386048 59.65389686 59.64386048 59.64386048\n",
      " 59.64386048 59.65389686 59.65389686 59.65389686 59.64386048 59.64386048\n",
      " 59.64386048 59.64386048 59.64386048 59.64386048 59.64386048 59.64386048\n",
      " 59.64386048 59.51673149 59.43822354 59.43822354 59.51673149 59.43822354\n",
      " 59.43822354 59.43822354 59.43822354 59.43822354 59.43822354 47.70271323\n",
      " 59.43822354 59.43822354 59.43822354 59.46843473 59.46843473 59.46843473\n",
      " 59.46843473 59.46843473 59.46843473 59.46843473 59.46843473 59.46843473\n",
      " 59.46843473 59.46843473 59.46843473 59.46843473 59.46843473 59.46843473\n",
      " 59.020393   59.020393   59.020393   59.020393   59.020393   59.020393\n",
      " 59.020393   59.020393   59.08807496 59.08807496 59.08807496 58.71942554\n",
      " 58.71942554 51.46779114 58.44080921 58.52985421 58.52985421 58.52985421\n",
      " 58.52985421 58.52985421 58.52985421 58.52985421 58.52985421 58.52985421\n",
      " 58.52985421 58.52985421 58.52985421 58.52985421 58.52985421 58.52985421\n",
      " 58.53800536 58.47117441 58.47117441 58.47117441 58.47117441 58.47117441\n",
      " 58.47117441 58.47117441 58.47117441 58.46746921 58.46746921 58.46746921\n",
      " 58.46746921 58.46746921 58.46746921 58.46746921 58.46746921 58.58423445\n",
      " 58.58423445 58.58423445 58.58423445 58.58423445 58.70470074 58.74110942\n",
      " 58.74110942 58.74110942 58.74110942 58.74110942 58.74110942 58.74110942\n",
      " 58.74110942 58.74110942 58.74110942 59.26358891 59.26358891 59.26358891\n",
      " 59.24504921 59.24504921 59.24504921 59.24504921 59.24504921 59.24504921\n",
      " 59.24504921 59.24504921 59.24504921 59.20936645 59.20936645 59.20936645\n",
      " 59.20936645 59.20936645 59.20936645 59.20936645 59.20936645 59.20936645\n",
      " 59.20936645 59.20936645 59.20936645 59.41763416 59.44784536 59.44784536\n",
      " 59.44784536 59.44784536 59.44784536 59.44784536 59.44784536 59.44784536\n",
      " 59.44784536 59.44784536 59.44784536 59.46678734 59.46678734 59.46678734\n",
      " 59.46678734 59.46678734 59.46678734 59.46678734 59.46678734 59.46678734\n",
      " 59.46678734 59.46678734 59.46678734 59.46678734 59.46507681 59.46507681\n",
      " 59.46507681 59.46507681 59.46507681 59.46507681 59.46507681 59.46507681\n",
      " 59.46507681 59.46507681 59.46507681 62.2719841  62.2719841  62.2719841\n",
      " 62.2719841  62.2719841  62.2719841  62.2719841  62.2719841  62.2719841\n",
      " 62.2719841  62.2719841  62.24791808 62.24791808 51.26662334 51.26662334\n",
      " 62.24791808 62.24791808 62.24791808 51.26662334 51.26662334 62.24791808\n",
      " 62.24791808 62.24791808 62.24791808 62.18941351 62.18941351 62.18941351\n",
      " 62.18941351 62.18941351 62.18941351 62.18941351 62.18941351 62.18941351\n",
      " 62.18941351 62.18941351 58.7631016  58.7631016  58.7631016  58.7631016\n",
      " 58.7631016  58.7631016  58.7631016  58.7631016  58.7631016  58.7631016\n",
      " 58.7631016  58.7631016  58.7631016  58.7631016  58.7631016  58.7631016\n",
      " 58.7631016  58.7631016  58.7631016  58.7088696  58.7088696  58.7088696\n",
      " 58.7088696  58.7088696  58.7088696  58.7088696  58.7088696  58.7088696\n",
      " 58.7088696  58.7088696  58.7088696  58.7088696  58.7088696  58.7088696\n",
      " 58.7088696  58.7088696  58.7088696  58.7088696  58.7088696  58.7088696\n",
      " 58.7088696  58.7088696  58.7088696  58.7088696  58.7088696  58.7088696\n",
      " 58.7088696  58.7088696  58.7088696  58.7088696  58.7088696  58.7088696\n",
      " 58.7088696  58.7088696  58.7088696  58.7088696  58.7088696  58.7088696\n",
      " 58.7088696  58.7088696  58.7088696  58.7088696  58.7088696  58.7088696\n",
      " 58.7088696  58.7088696  57.2751863  57.2751863  57.2751863  57.2751863\n",
      " 57.2751863  57.2751863  57.2751863  57.2751863  57.2751863  57.2751863\n",
      " 57.2751863  57.2751863  57.2751863  57.2751863  57.2751863  57.2751863\n",
      " 57.2751863  57.2751863  57.2751863  57.2751863  57.2751863  57.2751863\n",
      " 57.2751863  57.2751863  57.2751863  57.2751863  57.2751863  57.2751863\n",
      " 57.2751863  57.2751863  57.2751863  57.2751863  57.2751863 ]\n"
     ]
    }
   ],
   "source": [
    "poly = PolynomialFeatures(degree=4)\n",
    "X_ = poly.fit_transform(train_X2)\n",
    "predict_ = poly.fit_transform(test_X2)\n",
    "\n",
    "model.fit(X_, train_y2)\n",
    "predicted_values_poly=model.predict(predict_)\n",
    "print(predicted_values_poly)"
   ]
  },
  {
   "cell_type": "code",
   "execution_count": 165,
   "metadata": {},
   "outputs": [],
   "source": [
    "mse_poly=mean_squared_error(predicted_values_poly,test_y)\n",
    "r2_score_poly=r2_score(predicted_values_poly,test_y)"
   ]
  },
  {
   "cell_type": "code",
   "execution_count": 166,
   "metadata": {},
   "outputs": [
    {
     "name": "stdout",
     "output_type": "stream",
     "text": [
      "36.540222504548154\n",
      "-8.7694781481197\n"
     ]
    }
   ],
   "source": [
    "print(mse_poly)\n",
    "print(r2_score_poly)"
   ]
  },
  {
   "cell_type": "code",
   "execution_count": null,
   "metadata": {},
   "outputs": [],
   "source": []
  }
 ],
 "metadata": {
  "celltoolbar": "Raw Cell Format",
  "kernelspec": {
   "display_name": "Python 3",
   "language": "python",
   "name": "python3"
  },
  "language_info": {
   "codemirror_mode": {
    "name": "ipython",
    "version": 3
   },
   "file_extension": ".py",
   "mimetype": "text/x-python",
   "name": "python",
   "nbconvert_exporter": "python",
   "pygments_lexer": "ipython3",
   "version": "3.6.6"
  }
 },
 "nbformat": 4,
 "nbformat_minor": 2
}
