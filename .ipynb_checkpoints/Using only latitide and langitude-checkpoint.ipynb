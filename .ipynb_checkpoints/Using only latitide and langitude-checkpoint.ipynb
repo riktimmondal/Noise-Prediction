{
 "cells": [
  {
   "cell_type": "code",
   "execution_count": 1,
   "metadata": {},
   "outputs": [],
   "source": [
    "import numpy as np\n",
    "import pandas as pd\n",
    "from sklearn.ensemble import RandomForestRegressor\n",
    "\n",
    "# Read the data\n",
    "data= pd.read_csv('./data/n1.csv')\n",
    "\n"
   ]
  },
  {
   "cell_type": "code",
   "execution_count": 2,
   "metadata": {},
   "outputs": [
    {
     "data": {
      "text/html": [
       "<div>\n",
       "<style scoped>\n",
       "    .dataframe tbody tr th:only-of-type {\n",
       "        vertical-align: middle;\n",
       "    }\n",
       "\n",
       "    .dataframe tbody tr th {\n",
       "        vertical-align: top;\n",
       "    }\n",
       "\n",
       "    .dataframe thead th {\n",
       "        text-align: right;\n",
       "    }\n",
       "</style>\n",
       "<table border=\"1\" class=\"dataframe\">\n",
       "  <thead>\n",
       "    <tr style=\"text-align: right;\">\n",
       "      <th></th>\n",
       "      <th>username</th>\n",
       "      <th>latitude</th>\n",
       "      <th>longitude</th>\n",
       "      <th>noise_value</th>\n",
       "      <th>timestamp</th>\n",
       "      <th>tolerance_level</th>\n",
       "      <th>noise_category</th>\n",
       "      <th>region_category</th>\n",
       "      <th>aqi_value</th>\n",
       "    </tr>\n",
       "  </thead>\n",
       "  <tbody>\n",
       "    <tr>\n",
       "      <th>0</th>\n",
       "      <td>Abhimanyu</td>\n",
       "      <td>22.498528</td>\n",
       "      <td>88.383528</td>\n",
       "      <td>32.6</td>\n",
       "      <td>21-01-2018 02:01</td>\n",
       "      <td>Normal</td>\n",
       "      <td>Traffic</td>\n",
       "      <td>Street/Road</td>\n",
       "      <td>0</td>\n",
       "    </tr>\n",
       "    <tr>\n",
       "      <th>1</th>\n",
       "      <td>Abhimanyu</td>\n",
       "      <td>22.498607</td>\n",
       "      <td>88.383522</td>\n",
       "      <td>59.8</td>\n",
       "      <td>21-01-2018 02:01</td>\n",
       "      <td>Normal</td>\n",
       "      <td>Traffic</td>\n",
       "      <td>Street/Road</td>\n",
       "      <td>0</td>\n",
       "    </tr>\n",
       "    <tr>\n",
       "      <th>2</th>\n",
       "      <td>Abhimanyu</td>\n",
       "      <td>22.498643</td>\n",
       "      <td>88.383500</td>\n",
       "      <td>60.1</td>\n",
       "      <td>21-01-2018 02:01</td>\n",
       "      <td>Normal</td>\n",
       "      <td>Traffic</td>\n",
       "      <td>Street/Road</td>\n",
       "      <td>0</td>\n",
       "    </tr>\n",
       "    <tr>\n",
       "      <th>3</th>\n",
       "      <td>Abhimanyu</td>\n",
       "      <td>22.498713</td>\n",
       "      <td>88.383553</td>\n",
       "      <td>60.8</td>\n",
       "      <td>21-01-2018 02:02</td>\n",
       "      <td>Normal</td>\n",
       "      <td>Traffic</td>\n",
       "      <td>Street/Road</td>\n",
       "      <td>0</td>\n",
       "    </tr>\n",
       "    <tr>\n",
       "      <th>4</th>\n",
       "      <td>Abhimanyu</td>\n",
       "      <td>22.498770</td>\n",
       "      <td>88.383603</td>\n",
       "      <td>56.3</td>\n",
       "      <td>21-01-2018 02:02</td>\n",
       "      <td>Normal</td>\n",
       "      <td>Traffic</td>\n",
       "      <td>Street/Road</td>\n",
       "      <td>0</td>\n",
       "    </tr>\n",
       "  </tbody>\n",
       "</table>\n",
       "</div>"
      ],
      "text/plain": [
       "    username   latitude  longitude  noise_value         timestamp  \\\n",
       "0  Abhimanyu  22.498528  88.383528         32.6  21-01-2018 02:01   \n",
       "1  Abhimanyu  22.498607  88.383522         59.8  21-01-2018 02:01   \n",
       "2  Abhimanyu  22.498643  88.383500         60.1  21-01-2018 02:01   \n",
       "3  Abhimanyu  22.498713  88.383553         60.8  21-01-2018 02:02   \n",
       "4  Abhimanyu  22.498770  88.383603         56.3  21-01-2018 02:02   \n",
       "\n",
       "  tolerance_level noise_category region_category  aqi_value  \n",
       "0          Normal        Traffic     Street/Road          0  \n",
       "1          Normal        Traffic     Street/Road          0  \n",
       "2          Normal        Traffic     Street/Road          0  \n",
       "3          Normal        Traffic     Street/Road          0  \n",
       "4          Normal        Traffic     Street/Road          0  "
      ]
     },
     "execution_count": 2,
     "metadata": {},
     "output_type": "execute_result"
    }
   ],
   "source": [
    "data.head()"
   ]
  },
  {
   "cell_type": "code",
   "execution_count": 3,
   "metadata": {},
   "outputs": [],
   "source": [
    "train=data[0:1596]"
   ]
  },
  {
   "cell_type": "code",
   "execution_count": 4,
   "metadata": {},
   "outputs": [],
   "source": [
    "test=data[1596:]"
   ]
  },
  {
   "cell_type": "code",
   "execution_count": 5,
   "metadata": {},
   "outputs": [
    {
     "data": {
      "text/plain": [
       "username           1596\n",
       "latitude           1596\n",
       "longitude          1596\n",
       "noise_value        1596\n",
       "timestamp          1596\n",
       "tolerance_level    1596\n",
       "noise_category     1596\n",
       "region_category    1596\n",
       "aqi_value          1596\n",
       "dtype: int64"
      ]
     },
     "execution_count": 5,
     "metadata": {},
     "output_type": "execute_result"
    }
   ],
   "source": [
    "train.count()"
   ]
  },
  {
   "cell_type": "code",
   "execution_count": 6,
   "metadata": {},
   "outputs": [
    {
     "data": {
      "text/plain": [
       "username           401\n",
       "latitude           401\n",
       "longitude          401\n",
       "noise_value        401\n",
       "timestamp          401\n",
       "tolerance_level    401\n",
       "noise_category     401\n",
       "region_category    401\n",
       "aqi_value          401\n",
       "dtype: int64"
      ]
     },
     "execution_count": 6,
     "metadata": {},
     "output_type": "execute_result"
    }
   ],
   "source": [
    "test.count()"
   ]
  },
  {
   "cell_type": "code",
   "execution_count": 7,
   "metadata": {},
   "outputs": [
    {
     "data": {
      "text/plain": [
       "0       32.6\n",
       "1       59.8\n",
       "2       60.1\n",
       "3       60.8\n",
       "4       56.3\n",
       "5       54.5\n",
       "6       51.5\n",
       "7       51.1\n",
       "8       60.3\n",
       "9       69.3\n",
       "10      65.4\n",
       "11      62.9\n",
       "12      68.8\n",
       "13      66.5\n",
       "14      69.8\n",
       "15      64.6\n",
       "16      64.2\n",
       "17      65.0\n",
       "18      66.7\n",
       "19      62.9\n",
       "20      63.3\n",
       "21      65.5\n",
       "22      68.7\n",
       "23      68.1\n",
       "24      64.7\n",
       "25      62.6\n",
       "26      66.7\n",
       "27      65.2\n",
       "28      60.1\n",
       "29      59.4\n",
       "        ... \n",
       "1566    61.6\n",
       "1567    61.4\n",
       "1568    59.7\n",
       "1569    67.1\n",
       "1570    63.2\n",
       "1571    60.3\n",
       "1572    67.4\n",
       "1573    67.0\n",
       "1574    66.2\n",
       "1575    67.9\n",
       "1576    66.5\n",
       "1577    64.1\n",
       "1578    63.7\n",
       "1579    64.9\n",
       "1580    64.3\n",
       "1581    67.5\n",
       "1582    67.4\n",
       "1583    62.5\n",
       "1584    66.0\n",
       "1585    65.5\n",
       "1586    66.7\n",
       "1587    63.9\n",
       "1588    61.4\n",
       "1589    56.7\n",
       "1590    62.6\n",
       "1591    67.7\n",
       "1592    69.0\n",
       "1593    69.5\n",
       "1594    65.5\n",
       "1595    61.5\n",
       "Name: noise_value, Length: 1596, dtype: float64"
      ]
     },
     "execution_count": 7,
     "metadata": {},
     "output_type": "execute_result"
    }
   ],
   "source": [
    "train_y=train.noise_value\n",
    "train_y"
   ]
  },
  {
   "cell_type": "code",
   "execution_count": 41,
   "metadata": {},
   "outputs": [
    {
     "name": "stdout",
     "output_type": "stream",
     "text": [
      "(401,)\n",
      "<class 'numpy.ndarray'>\n",
      "<class 'numpy.ndarray'>\n"
     ]
    },
    {
     "data": {
      "text/plain": [
       "array([60.4, 65.3, 69.2, 67.6, 65.1, 61. , 61.5, 61.6, 66.3, 64.8, 64.5,\n",
       "       61.2, 62.1, 59.3, 59.8, 62.4, 63.4, 64.3, 63.4, 62.8, 62.5, 62.6,\n",
       "       65.6, 66.2, 65.1, 61.4, 58.8, 61.1, 62.1, 60.7, 64.2, 65.3, 62. ,\n",
       "       62.3, 59.3, 66.6, 64.3, 62.2, 64.2, 62. , 65. , 61. , 65.1, 66.5,\n",
       "       67.2, 64.5, 70.1, 66.8, 61.4, 63.7, 67.5, 65.9, 60.5, 62.2, 67.3,\n",
       "       65.5, 63.6, 67.2, 61.9, 63.2, 61.7, 62. , 58.5, 59. , 61.4, 66.3,\n",
       "       64.8, 62.7, 60.4, 61.6, 60.2, 61.1, 61.1, 61.7, 60.2, 63.7, 61.7,\n",
       "       65.6, 63.2, 65.2, 67. , 68.5, 61.3, 59.6, 62.5, 59.3, 58. , 58.5,\n",
       "       62.8, 61.1, 62.1, 59.7, 30.1, 60.6, 61. , 65.8, 62.2, 64.8, 65.9,\n",
       "       63.3, 62.2, 61.5, 63. , 67.9, 62.6, 61.9, 59.1, 62.4, 61.6, 67. ,\n",
       "       68.9, 63.3, 66.1, 68. , 65.6, 65.3, 66.1, 66.3, 64.7, 64.8, 68. ,\n",
       "       62.6, 60.7, 65.9, 62.8, 57.9, 59.8, 64.7, 62.8, 66. , 62.3, 61.6,\n",
       "       59.4, 60.3, 65.9, 68.9, 62.8, 58.2, 61.8, 60.7, 62.4, 60.8, 62.3,\n",
       "       63.4, 65.5, 66. , 64.9, 60. , 62.4, 62.8, 66.6, 61.5, 59.1, 59.2,\n",
       "       60.6, 63.4, 66.6, 54.4, 64.1, 64.5, 67.5, 67.5, 64.2, 63.2, 67.1,\n",
       "       69.6, 66.1, 64.5, 66.4, 69.2, 69.6, 69.7, 68.6, 67.9, 66.6, 64.6,\n",
       "       64. , 61.7, 64.6, 67.2, 66. , 67.8, 67.4, 66.3, 61. , 59.9, 58.7,\n",
       "       64.2, 64.6, 66. , 64. , 66.7, 66.4, 62.9, 60.4, 66.3, 66.7, 64.8,\n",
       "       64.3, 62. , 63.3, 63.4, 67.3, 65.6, 67.8, 68.5, 69.9, 68. , 70.4,\n",
       "       65.9, 65.5, 65.6, 65.2, 65.4, 62.4, 63.9, 65.2, 69. , 65.1, 67.5,\n",
       "       67.1, 68.6, 67.3, 66.1, 62. , 64.5, 67.5, 59.6, 62.5, 62.5, 64.4,\n",
       "       66.8, 67.4, 67.4, 67.7, 63.7, 61.6, 63.9, 68. , 68.2, 66.5, 67.2,\n",
       "       67.3, 69.5, 66.8, 64.7, 62.9, 63.6, 67.8, 69.1, 70.6, 66.9, 62.6,\n",
       "       60.9, 58.5, 63.7, 68.4, 68.1, 67.1, 66.6, 66.9, 69.2, 69. , 67.1,\n",
       "       65. , 65.7, 64.8, 65. , 66.9, 69.5, 66.6, 65.7, 67.9, 65.7, 64.4,\n",
       "       68.4, 60.8, 60. , 61.6, 61.3, 57.7, 57.7, 60.3, 60.6, 58.8, 56.3,\n",
       "       56.2, 59.3, 63.5, 68.2, 67. , 65.5, 63.5, 65.3, 65.5, 62.9, 67.4,\n",
       "       65.8, 62.5, 60.6, 59.9, 58.6, 60.4, 61.9, 63.9, 62.1, 64.3, 66.1,\n",
       "       64.9, 67.8, 67.4, 67.9, 68.2, 67.5, 69.3, 67.3, 66.8, 67.6, 67.6,\n",
       "       68.6, 66.1, 63.2, 59.3, 61.2, 64.5, 62.4, 62.2, 62.2, 61.1, 61.9,\n",
       "       61.6, 60.7, 62.6, 64.4, 63.8, 66.9, 68.1, 66.4, 68.5, 68.9, 67.2,\n",
       "       64.9, 68.1, 63. , 63.6, 64.5, 62.4, 63.4, 65.4, 63.3, 68.7, 69. ,\n",
       "       68.3, 66.3, 68.7, 67.9, 65.2, 65. , 63.2, 62.1, 60.1, 61.3, 60.5,\n",
       "       60.6, 64. , 63.2, 64. , 66.9, 68. , 63.1, 58. , 58. , 63.9, 67.8,\n",
       "       68.9, 64.4, 63.1, 66.5, 65.9, 67. , 66.4, 65.3, 64.8, 64.4, 63.8,\n",
       "       62.2, 61.5, 64.8, 62.6, 61.8, 62.8, 61.3, 65.5, 69.3, 70.3, 69.1,\n",
       "       68.7, 69.4, 68.8, 66.7, 61.3])"
      ]
     },
     "execution_count": 41,
     "metadata": {},
     "output_type": "execute_result"
    }
   ],
   "source": [
    "#test_y=test.noise_value\n",
    "print(test_y.shape)\n",
    "print(type(test_y))\n",
    "#test_y=test_y.values\n",
    "print(type(test_y))\n",
    "test_y"
   ]
  },
  {
   "cell_type": "code",
   "execution_count": 38,
   "metadata": {},
   "outputs": [
    {
     "ename": "KeyError",
     "evalue": "\"['username' 'noise_value' 'timestamp' 'tolerance_level' 'noise_category'\\n 'region_category' 'aqi_value'] not found in axis\"",
     "output_type": "error",
     "traceback": [
      "\u001b[0;31m---------------------------------------------------------------------------\u001b[0m",
      "\u001b[0;31mKeyError\u001b[0m                                  Traceback (most recent call last)",
      "\u001b[0;32m<ipython-input-38-6485479c0a00>\u001b[0m in \u001b[0;36m<module>\u001b[0;34m()\u001b[0m\n\u001b[1;32m      1\u001b[0m \u001b[0mcolumns\u001b[0m \u001b[0;34m=\u001b[0m \u001b[0;34m[\u001b[0m\u001b[0;34m'username'\u001b[0m\u001b[0;34m,\u001b[0m\u001b[0;34m'noise_value'\u001b[0m\u001b[0;34m,\u001b[0m\u001b[0;34m'timestamp'\u001b[0m\u001b[0;34m,\u001b[0m\u001b[0;34m'tolerance_level'\u001b[0m\u001b[0;34m,\u001b[0m\u001b[0;34m'noise_category'\u001b[0m\u001b[0;34m,\u001b[0m \u001b[0;34m'region_category'\u001b[0m\u001b[0;34m,\u001b[0m \u001b[0;34m'aqi_value'\u001b[0m\u001b[0;34m]\u001b[0m\u001b[0;34m\u001b[0m\u001b[0m\n\u001b[0;32m----> 2\u001b[0;31m \u001b[0mtrain\u001b[0m\u001b[0;34m.\u001b[0m\u001b[0mdrop\u001b[0m\u001b[0;34m(\u001b[0m\u001b[0mcolumns\u001b[0m\u001b[0;34m,\u001b[0m\u001b[0maxis\u001b[0m\u001b[0;34m=\u001b[0m\u001b[0;36m1\u001b[0m\u001b[0;34m,\u001b[0m\u001b[0minplace\u001b[0m\u001b[0;34m=\u001b[0m\u001b[0;32mTrue\u001b[0m\u001b[0;34m)\u001b[0m\u001b[0;34m\u001b[0m\u001b[0m\n\u001b[0m",
      "\u001b[0;32m~/anaconda3/envs/tf/lib/python3.6/site-packages/pandas/core/frame.py\u001b[0m in \u001b[0;36mdrop\u001b[0;34m(self, labels, axis, index, columns, level, inplace, errors)\u001b[0m\n\u001b[1;32m   3695\u001b[0m                                            \u001b[0mindex\u001b[0m\u001b[0;34m=\u001b[0m\u001b[0mindex\u001b[0m\u001b[0;34m,\u001b[0m \u001b[0mcolumns\u001b[0m\u001b[0;34m=\u001b[0m\u001b[0mcolumns\u001b[0m\u001b[0;34m,\u001b[0m\u001b[0;34m\u001b[0m\u001b[0m\n\u001b[1;32m   3696\u001b[0m                                            \u001b[0mlevel\u001b[0m\u001b[0;34m=\u001b[0m\u001b[0mlevel\u001b[0m\u001b[0;34m,\u001b[0m \u001b[0minplace\u001b[0m\u001b[0;34m=\u001b[0m\u001b[0minplace\u001b[0m\u001b[0;34m,\u001b[0m\u001b[0;34m\u001b[0m\u001b[0m\n\u001b[0;32m-> 3697\u001b[0;31m                                            errors=errors)\n\u001b[0m\u001b[1;32m   3698\u001b[0m \u001b[0;34m\u001b[0m\u001b[0m\n\u001b[1;32m   3699\u001b[0m     @rewrite_axis_style_signature('mapper', [('copy', True),\n",
      "\u001b[0;32m~/anaconda3/envs/tf/lib/python3.6/site-packages/pandas/core/generic.py\u001b[0m in \u001b[0;36mdrop\u001b[0;34m(self, labels, axis, index, columns, level, inplace, errors)\u001b[0m\n\u001b[1;32m   3109\u001b[0m         \u001b[0;32mfor\u001b[0m \u001b[0maxis\u001b[0m\u001b[0;34m,\u001b[0m \u001b[0mlabels\u001b[0m \u001b[0;32min\u001b[0m \u001b[0maxes\u001b[0m\u001b[0;34m.\u001b[0m\u001b[0mitems\u001b[0m\u001b[0;34m(\u001b[0m\u001b[0;34m)\u001b[0m\u001b[0;34m:\u001b[0m\u001b[0;34m\u001b[0m\u001b[0m\n\u001b[1;32m   3110\u001b[0m             \u001b[0;32mif\u001b[0m \u001b[0mlabels\u001b[0m \u001b[0;32mis\u001b[0m \u001b[0;32mnot\u001b[0m \u001b[0;32mNone\u001b[0m\u001b[0;34m:\u001b[0m\u001b[0;34m\u001b[0m\u001b[0m\n\u001b[0;32m-> 3111\u001b[0;31m                 \u001b[0mobj\u001b[0m \u001b[0;34m=\u001b[0m \u001b[0mobj\u001b[0m\u001b[0;34m.\u001b[0m\u001b[0m_drop_axis\u001b[0m\u001b[0;34m(\u001b[0m\u001b[0mlabels\u001b[0m\u001b[0;34m,\u001b[0m \u001b[0maxis\u001b[0m\u001b[0;34m,\u001b[0m \u001b[0mlevel\u001b[0m\u001b[0;34m=\u001b[0m\u001b[0mlevel\u001b[0m\u001b[0;34m,\u001b[0m \u001b[0merrors\u001b[0m\u001b[0;34m=\u001b[0m\u001b[0merrors\u001b[0m\u001b[0;34m)\u001b[0m\u001b[0;34m\u001b[0m\u001b[0m\n\u001b[0m\u001b[1;32m   3112\u001b[0m \u001b[0;34m\u001b[0m\u001b[0m\n\u001b[1;32m   3113\u001b[0m         \u001b[0;32mif\u001b[0m \u001b[0minplace\u001b[0m\u001b[0;34m:\u001b[0m\u001b[0;34m\u001b[0m\u001b[0m\n",
      "\u001b[0;32m~/anaconda3/envs/tf/lib/python3.6/site-packages/pandas/core/generic.py\u001b[0m in \u001b[0;36m_drop_axis\u001b[0;34m(self, labels, axis, level, errors)\u001b[0m\n\u001b[1;32m   3141\u001b[0m                 \u001b[0mnew_axis\u001b[0m \u001b[0;34m=\u001b[0m \u001b[0maxis\u001b[0m\u001b[0;34m.\u001b[0m\u001b[0mdrop\u001b[0m\u001b[0;34m(\u001b[0m\u001b[0mlabels\u001b[0m\u001b[0;34m,\u001b[0m \u001b[0mlevel\u001b[0m\u001b[0;34m=\u001b[0m\u001b[0mlevel\u001b[0m\u001b[0;34m,\u001b[0m \u001b[0merrors\u001b[0m\u001b[0;34m=\u001b[0m\u001b[0merrors\u001b[0m\u001b[0;34m)\u001b[0m\u001b[0;34m\u001b[0m\u001b[0m\n\u001b[1;32m   3142\u001b[0m             \u001b[0;32melse\u001b[0m\u001b[0;34m:\u001b[0m\u001b[0;34m\u001b[0m\u001b[0m\n\u001b[0;32m-> 3143\u001b[0;31m                 \u001b[0mnew_axis\u001b[0m \u001b[0;34m=\u001b[0m \u001b[0maxis\u001b[0m\u001b[0;34m.\u001b[0m\u001b[0mdrop\u001b[0m\u001b[0;34m(\u001b[0m\u001b[0mlabels\u001b[0m\u001b[0;34m,\u001b[0m \u001b[0merrors\u001b[0m\u001b[0;34m=\u001b[0m\u001b[0merrors\u001b[0m\u001b[0;34m)\u001b[0m\u001b[0;34m\u001b[0m\u001b[0m\n\u001b[0m\u001b[1;32m   3144\u001b[0m             \u001b[0mresult\u001b[0m \u001b[0;34m=\u001b[0m \u001b[0mself\u001b[0m\u001b[0;34m.\u001b[0m\u001b[0mreindex\u001b[0m\u001b[0;34m(\u001b[0m\u001b[0;34m**\u001b[0m\u001b[0;34m{\u001b[0m\u001b[0maxis_name\u001b[0m\u001b[0;34m:\u001b[0m \u001b[0mnew_axis\u001b[0m\u001b[0;34m}\u001b[0m\u001b[0;34m)\u001b[0m\u001b[0;34m\u001b[0m\u001b[0m\n\u001b[1;32m   3145\u001b[0m \u001b[0;34m\u001b[0m\u001b[0m\n",
      "\u001b[0;32m~/anaconda3/envs/tf/lib/python3.6/site-packages/pandas/core/indexes/base.py\u001b[0m in \u001b[0;36mdrop\u001b[0;34m(self, labels, errors)\u001b[0m\n\u001b[1;32m   4402\u001b[0m             \u001b[0;32mif\u001b[0m \u001b[0merrors\u001b[0m \u001b[0;34m!=\u001b[0m \u001b[0;34m'ignore'\u001b[0m\u001b[0;34m:\u001b[0m\u001b[0;34m\u001b[0m\u001b[0m\n\u001b[1;32m   4403\u001b[0m                 raise KeyError(\n\u001b[0;32m-> 4404\u001b[0;31m                     '{} not found in axis'.format(labels[mask]))\n\u001b[0m\u001b[1;32m   4405\u001b[0m             \u001b[0mindexer\u001b[0m \u001b[0;34m=\u001b[0m \u001b[0mindexer\u001b[0m\u001b[0;34m[\u001b[0m\u001b[0;34m~\u001b[0m\u001b[0mmask\u001b[0m\u001b[0;34m]\u001b[0m\u001b[0;34m\u001b[0m\u001b[0m\n\u001b[1;32m   4406\u001b[0m         \u001b[0;32mreturn\u001b[0m \u001b[0mself\u001b[0m\u001b[0;34m.\u001b[0m\u001b[0mdelete\u001b[0m\u001b[0;34m(\u001b[0m\u001b[0mindexer\u001b[0m\u001b[0;34m)\u001b[0m\u001b[0;34m\u001b[0m\u001b[0m\n",
      "\u001b[0;31mKeyError\u001b[0m: \"['username' 'noise_value' 'timestamp' 'tolerance_level' 'noise_category'\\n 'region_category' 'aqi_value'] not found in axis\""
     ]
    }
   ],
   "source": [
    "columns = ['username','noise_value','timestamp','tolerance_level','noise_category', 'region_category', 'aqi_value']\n",
    "train.drop(columns,axis=1,inplace=True)"
   ]
  },
  {
   "cell_type": "code",
   "execution_count": 39,
   "metadata": {},
   "outputs": [
    {
     "ename": "KeyError",
     "evalue": "\"['username' 'noise_value' 'timestamp' 'tolerance_level' 'noise_category'\\n 'region_category' 'aqi_value'] not found in axis\"",
     "output_type": "error",
     "traceback": [
      "\u001b[0;31m---------------------------------------------------------------------------\u001b[0m",
      "\u001b[0;31mKeyError\u001b[0m                                  Traceback (most recent call last)",
      "\u001b[0;32m<ipython-input-39-d82ea02fab05>\u001b[0m in \u001b[0;36m<module>\u001b[0;34m()\u001b[0m\n\u001b[0;32m----> 1\u001b[0;31m \u001b[0mtest\u001b[0m\u001b[0;34m.\u001b[0m\u001b[0mdrop\u001b[0m\u001b[0;34m(\u001b[0m\u001b[0mcolumns\u001b[0m\u001b[0;34m,\u001b[0m\u001b[0maxis\u001b[0m\u001b[0;34m=\u001b[0m\u001b[0;36m1\u001b[0m\u001b[0;34m,\u001b[0m\u001b[0minplace\u001b[0m\u001b[0;34m=\u001b[0m\u001b[0;32mTrue\u001b[0m\u001b[0;34m)\u001b[0m\u001b[0;34m\u001b[0m\u001b[0m\n\u001b[0m",
      "\u001b[0;32m~/anaconda3/envs/tf/lib/python3.6/site-packages/pandas/core/frame.py\u001b[0m in \u001b[0;36mdrop\u001b[0;34m(self, labels, axis, index, columns, level, inplace, errors)\u001b[0m\n\u001b[1;32m   3695\u001b[0m                                            \u001b[0mindex\u001b[0m\u001b[0;34m=\u001b[0m\u001b[0mindex\u001b[0m\u001b[0;34m,\u001b[0m \u001b[0mcolumns\u001b[0m\u001b[0;34m=\u001b[0m\u001b[0mcolumns\u001b[0m\u001b[0;34m,\u001b[0m\u001b[0;34m\u001b[0m\u001b[0m\n\u001b[1;32m   3696\u001b[0m                                            \u001b[0mlevel\u001b[0m\u001b[0;34m=\u001b[0m\u001b[0mlevel\u001b[0m\u001b[0;34m,\u001b[0m \u001b[0minplace\u001b[0m\u001b[0;34m=\u001b[0m\u001b[0minplace\u001b[0m\u001b[0;34m,\u001b[0m\u001b[0;34m\u001b[0m\u001b[0m\n\u001b[0;32m-> 3697\u001b[0;31m                                            errors=errors)\n\u001b[0m\u001b[1;32m   3698\u001b[0m \u001b[0;34m\u001b[0m\u001b[0m\n\u001b[1;32m   3699\u001b[0m     @rewrite_axis_style_signature('mapper', [('copy', True),\n",
      "\u001b[0;32m~/anaconda3/envs/tf/lib/python3.6/site-packages/pandas/core/generic.py\u001b[0m in \u001b[0;36mdrop\u001b[0;34m(self, labels, axis, index, columns, level, inplace, errors)\u001b[0m\n\u001b[1;32m   3109\u001b[0m         \u001b[0;32mfor\u001b[0m \u001b[0maxis\u001b[0m\u001b[0;34m,\u001b[0m \u001b[0mlabels\u001b[0m \u001b[0;32min\u001b[0m \u001b[0maxes\u001b[0m\u001b[0;34m.\u001b[0m\u001b[0mitems\u001b[0m\u001b[0;34m(\u001b[0m\u001b[0;34m)\u001b[0m\u001b[0;34m:\u001b[0m\u001b[0;34m\u001b[0m\u001b[0m\n\u001b[1;32m   3110\u001b[0m             \u001b[0;32mif\u001b[0m \u001b[0mlabels\u001b[0m \u001b[0;32mis\u001b[0m \u001b[0;32mnot\u001b[0m \u001b[0;32mNone\u001b[0m\u001b[0;34m:\u001b[0m\u001b[0;34m\u001b[0m\u001b[0m\n\u001b[0;32m-> 3111\u001b[0;31m                 \u001b[0mobj\u001b[0m \u001b[0;34m=\u001b[0m \u001b[0mobj\u001b[0m\u001b[0;34m.\u001b[0m\u001b[0m_drop_axis\u001b[0m\u001b[0;34m(\u001b[0m\u001b[0mlabels\u001b[0m\u001b[0;34m,\u001b[0m \u001b[0maxis\u001b[0m\u001b[0;34m,\u001b[0m \u001b[0mlevel\u001b[0m\u001b[0;34m=\u001b[0m\u001b[0mlevel\u001b[0m\u001b[0;34m,\u001b[0m \u001b[0merrors\u001b[0m\u001b[0;34m=\u001b[0m\u001b[0merrors\u001b[0m\u001b[0;34m)\u001b[0m\u001b[0;34m\u001b[0m\u001b[0m\n\u001b[0m\u001b[1;32m   3112\u001b[0m \u001b[0;34m\u001b[0m\u001b[0m\n\u001b[1;32m   3113\u001b[0m         \u001b[0;32mif\u001b[0m \u001b[0minplace\u001b[0m\u001b[0;34m:\u001b[0m\u001b[0;34m\u001b[0m\u001b[0m\n",
      "\u001b[0;32m~/anaconda3/envs/tf/lib/python3.6/site-packages/pandas/core/generic.py\u001b[0m in \u001b[0;36m_drop_axis\u001b[0;34m(self, labels, axis, level, errors)\u001b[0m\n\u001b[1;32m   3141\u001b[0m                 \u001b[0mnew_axis\u001b[0m \u001b[0;34m=\u001b[0m \u001b[0maxis\u001b[0m\u001b[0;34m.\u001b[0m\u001b[0mdrop\u001b[0m\u001b[0;34m(\u001b[0m\u001b[0mlabels\u001b[0m\u001b[0;34m,\u001b[0m \u001b[0mlevel\u001b[0m\u001b[0;34m=\u001b[0m\u001b[0mlevel\u001b[0m\u001b[0;34m,\u001b[0m \u001b[0merrors\u001b[0m\u001b[0;34m=\u001b[0m\u001b[0merrors\u001b[0m\u001b[0;34m)\u001b[0m\u001b[0;34m\u001b[0m\u001b[0m\n\u001b[1;32m   3142\u001b[0m             \u001b[0;32melse\u001b[0m\u001b[0;34m:\u001b[0m\u001b[0;34m\u001b[0m\u001b[0m\n\u001b[0;32m-> 3143\u001b[0;31m                 \u001b[0mnew_axis\u001b[0m \u001b[0;34m=\u001b[0m \u001b[0maxis\u001b[0m\u001b[0;34m.\u001b[0m\u001b[0mdrop\u001b[0m\u001b[0;34m(\u001b[0m\u001b[0mlabels\u001b[0m\u001b[0;34m,\u001b[0m \u001b[0merrors\u001b[0m\u001b[0;34m=\u001b[0m\u001b[0merrors\u001b[0m\u001b[0;34m)\u001b[0m\u001b[0;34m\u001b[0m\u001b[0m\n\u001b[0m\u001b[1;32m   3144\u001b[0m             \u001b[0mresult\u001b[0m \u001b[0;34m=\u001b[0m \u001b[0mself\u001b[0m\u001b[0;34m.\u001b[0m\u001b[0mreindex\u001b[0m\u001b[0;34m(\u001b[0m\u001b[0;34m**\u001b[0m\u001b[0;34m{\u001b[0m\u001b[0maxis_name\u001b[0m\u001b[0;34m:\u001b[0m \u001b[0mnew_axis\u001b[0m\u001b[0;34m}\u001b[0m\u001b[0;34m)\u001b[0m\u001b[0;34m\u001b[0m\u001b[0m\n\u001b[1;32m   3145\u001b[0m \u001b[0;34m\u001b[0m\u001b[0m\n",
      "\u001b[0;32m~/anaconda3/envs/tf/lib/python3.6/site-packages/pandas/core/indexes/base.py\u001b[0m in \u001b[0;36mdrop\u001b[0;34m(self, labels, errors)\u001b[0m\n\u001b[1;32m   4402\u001b[0m             \u001b[0;32mif\u001b[0m \u001b[0merrors\u001b[0m \u001b[0;34m!=\u001b[0m \u001b[0;34m'ignore'\u001b[0m\u001b[0;34m:\u001b[0m\u001b[0;34m\u001b[0m\u001b[0m\n\u001b[1;32m   4403\u001b[0m                 raise KeyError(\n\u001b[0;32m-> 4404\u001b[0;31m                     '{} not found in axis'.format(labels[mask]))\n\u001b[0m\u001b[1;32m   4405\u001b[0m             \u001b[0mindexer\u001b[0m \u001b[0;34m=\u001b[0m \u001b[0mindexer\u001b[0m\u001b[0;34m[\u001b[0m\u001b[0;34m~\u001b[0m\u001b[0mmask\u001b[0m\u001b[0;34m]\u001b[0m\u001b[0;34m\u001b[0m\u001b[0m\n\u001b[1;32m   4406\u001b[0m         \u001b[0;32mreturn\u001b[0m \u001b[0mself\u001b[0m\u001b[0;34m.\u001b[0m\u001b[0mdelete\u001b[0m\u001b[0;34m(\u001b[0m\u001b[0mindexer\u001b[0m\u001b[0;34m)\u001b[0m\u001b[0;34m\u001b[0m\u001b[0m\n",
      "\u001b[0;31mKeyError\u001b[0m: \"['username' 'noise_value' 'timestamp' 'tolerance_level' 'noise_category'\\n 'region_category' 'aqi_value'] not found in axis\""
     ]
    }
   ],
   "source": [
    "test.drop(columns,axis=1,inplace=True)\n"
   ]
  },
  {
   "cell_type": "code",
   "execution_count": 17,
   "metadata": {},
   "outputs": [],
   "source": [
    "train_X=train\n",
    "test_X=test"
   ]
  },
  {
   "cell_type": "code",
   "execution_count": 55,
   "metadata": {},
   "outputs": [
    {
     "data": {
      "text/plain": [
       "RandomForestRegressor(bootstrap=True, criterion='mse', max_depth=None,\n",
       "           max_features='auto', max_leaf_nodes=None,\n",
       "           min_impurity_decrease=0.0, min_impurity_split=None,\n",
       "           min_samples_leaf=1, min_samples_split=2,\n",
       "           min_weight_fraction_leaf=0.0, n_estimators=1000, n_jobs=1,\n",
       "           oob_score=False, random_state=None, verbose=0, warm_start=False)"
      ]
     },
     "execution_count": 55,
     "metadata": {},
     "output_type": "execute_result"
    }
   ],
   "source": [
    "my_model = RandomForestRegressor(n_estimators=1000)\n",
    "my_model.fit(train_X, train_y)"
   ]
  },
  {
   "cell_type": "code",
   "execution_count": 56,
   "metadata": {},
   "outputs": [],
   "source": [
    "predicted_noise = my_model.predict(test_X)"
   ]
  },
  {
   "cell_type": "code",
   "execution_count": 57,
   "metadata": {},
   "outputs": [
    {
     "data": {
      "text/plain": [
       "array([63.3733    , 63.3733    , 63.3733    , 63.3733    , 63.3733    ,\n",
       "       63.3733    , 63.3733    , 63.3733    , 60.2232    , 60.1528    ,\n",
       "       60.1528    , 61.244     , 62.0814    , 58.9609    , 60.3496    ,\n",
       "       60.2297    , 60.1713    , 60.1654    , 60.1713    , 60.2123    ,\n",
       "       60.1713    , 60.1511    , 60.1743    , 60.2473    , 60.5578    ,\n",
       "       60.5329    , 60.5329    , 60.5329    , 60.5384    , 60.235     ,\n",
       "       60.0218    , 59.5457    , 59.6306    , 59.5894    , 59.5894    ,\n",
       "       59.6587    , 60.0487    , 59.6747    , 58.92273   , 59.20408   ,\n",
       "       59.1182    , 59.1153    , 59.1124    , 59.1153    , 59.1153    ,\n",
       "       59.1152    , 59.131     , 59.2802    , 59.3372    , 59.3372    ,\n",
       "       59.3401    , 59.3541    , 59.3488    , 59.3488    , 59.253     ,\n",
       "       59.2135    , 59.2135    , 59.2135    , 59.2261    , 59.23      ,\n",
       "       59.2544    , 59.2652    , 59.2705    , 59.2705    , 59.2461    ,\n",
       "       59.0765    , 58.7255    , 58.2734    , 58.2425    , 58.2312    ,\n",
       "       58.2339    , 58.2312    , 58.2388    , 58.2474    , 58.2474    ,\n",
       "       58.2474    , 58.2474    , 58.2474    , 58.252     , 58.252     ,\n",
       "       58.1167    , 58.1167    , 58.1167    , 57.6068    , 57.6068    ,\n",
       "       56.8849    , 56.1255    , 55.9004    , 55.9004    , 55.9046    ,\n",
       "       55.6932    , 55.7899    , 57.7359    , 57.7358    , 57.7851    ,\n",
       "       57.8319    , 57.7981    , 57.8082    , 57.904     , 57.869     ,\n",
       "       57.9666    , 57.8991    , 57.9398    , 57.8515    , 57.8439    ,\n",
       "       57.832     , 57.6518    , 57.6532    , 57.6357    , 57.5895    ,\n",
       "       57.5569    , 57.4302    , 57.4289    , 57.7051    , 57.5244    ,\n",
       "       57.843     , 58.0692    , 58.0748    , 58.1397    , 57.766     ,\n",
       "       57.9233    , 57.967     , 57.967     , 57.9655    , 58.4014    ,\n",
       "       58.7463    , 58.7825    , 58.7459    , 58.9641    , 60.5607    ,\n",
       "       60.6153    , 60.5541    , 60.5942    , 60.6667    , 61.5028    ,\n",
       "       59.7731    , 59.6487    , 59.7057    , 59.7731    , 59.6487    ,\n",
       "       59.6487    , 59.7057    , 59.7057    , 59.6335    , 59.6243    ,\n",
       "       59.6195    , 59.7123    , 60.1619    , 59.7926    , 57.5428    ,\n",
       "       57.6454    , 57.5428    , 57.5786    , 57.3778    , 57.1094    ,\n",
       "       57.0005    , 57.0005    , 66.2751    , 66.8896    , 66.8896    ,\n",
       "       66.8896    , 66.8896    , 64.4893    , 64.1488    , 64.7708    ,\n",
       "       64.8155    , 64.6011    , 64.292     , 64.5615    , 64.292     ,\n",
       "       64.2167    , 64.2873    , 64.4929    , 64.1612    , 64.1347    ,\n",
       "       64.1935    , 64.3775    , 64.4575    , 64.4455    , 64.4455    ,\n",
       "       64.4455    , 64.4455    , 64.4455    , 64.4455    , 64.2927    ,\n",
       "       63.6       , 63.1762    , 63.3885    , 63.2247    , 63.2592    ,\n",
       "       63.2592    , 63.2422    , 63.4933    , 63.3818    , 63.1814    ,\n",
       "       63.4551    , 61.195     , 61.6568    , 61.6951    , 62.052     ,\n",
       "       61.8118    , 61.8023    , 61.793     , 62.2111    , 62.3488    ,\n",
       "       62.2889    , 62.1646    , 62.1756    , 62.1514    , 61.9532    ,\n",
       "       61.9016    , 61.8884    , 62.2368    , 62.1369    , 62.1157    ,\n",
       "       62.0016    , 62.0016    , 62.0226    , 62.0226    , 62.2097    ,\n",
       "       62.234     , 62.0992    , 62.0494    , 62.1297    , 60.6546    ,\n",
       "       61.232125  , 61.51408   , 61.56764   , 61.67695   , 61.73638333,\n",
       "       61.78641667, 61.55258333, 61.61438333, 61.61438333, 61.61438333,\n",
       "       61.61438333, 61.61438333, 61.61438333, 61.61438333, 61.61438333,\n",
       "       61.61438333, 61.61438333, 61.61438333, 61.61438333, 61.61438333,\n",
       "       61.61438333, 61.61438333, 61.61438333, 61.59178333, 61.59178333,\n",
       "       61.59178333, 61.59178333, 61.59178333, 61.59178333, 61.59178333,\n",
       "       61.59178333, 61.59178333, 61.59178333, 61.59178333, 61.59178333,\n",
       "       61.59178333, 61.59178333, 52.0669    , 52.0189    , 52.0169    ,\n",
       "       52.0169    , 52.0169    , 52.0169    , 52.0169    , 52.0169    ,\n",
       "       52.0169    , 52.0169    , 52.0169    , 52.0169    , 52.0169    ,\n",
       "       52.0169    , 52.0169    , 52.0169    , 52.0169    , 52.0169    ,\n",
       "       52.0169    , 52.0169    , 52.0169    , 52.0169    , 52.0169    ,\n",
       "       52.0169    , 52.0169    , 52.0169    , 52.0169    , 52.0169    ,\n",
       "       52.0169    , 52.0169    , 55.6496    , 56.0516    , 55.9975    ,\n",
       "       56.1218    , 56.0781    , 57.0553    , 56.011     , 55.8254    ,\n",
       "       55.5473    , 55.5006    , 55.8992    , 56.0577    , 55.9147    ,\n",
       "       56.0507    , 55.9065    , 55.6856    , 55.7401    , 54.6683    ,\n",
       "       54.4198    , 54.6329    , 54.6329    , 54.4625    , 54.9026    ,\n",
       "       53.8675    , 52.8112    , 52.8439    , 52.9758    , 53.1105    ,\n",
       "       53.5082    , 56.4939    , 55.5015    , 55.2405    , 55.2405    ,\n",
       "       55.4395    , 55.2519    , 55.7044    , 55.5475    , 55.5455    ,\n",
       "       56.1359    , 55.6054    , 56.1896    , 56.2829    , 56.035     ,\n",
       "       54.8321    , 55.7486    , 55.7486    , 55.7486    , 55.7188    ,\n",
       "       54.6896    , 54.2752    , 54.2842    , 54.2752    , 54.0591    ,\n",
       "       53.9312    , 54.0476    , 54.1004    , 54.1004    , 54.1557    ,\n",
       "       53.9689    , 54.2499    , 54.7872    , 54.7992    , 54.7992    ,\n",
       "       54.7985    , 55.6424    , 54.8639    , 54.9939    , 54.9939    ,\n",
       "       55.073     , 56.0501    , 55.7926    , 55.8175    , 55.3324    ,\n",
       "       57.62      , 58.09428333, 57.96545833, 58.03975833, 58.03475833,\n",
       "       57.70985833, 57.66645833, 57.76555833, 57.84095833, 57.84095833,\n",
       "       58.01935833, 57.95395833, 58.23104167, 58.40874167, 55.81169167,\n",
       "       55.14315833, 55.14615833, 55.14625833, 55.50429167, 55.83118   ,\n",
       "       55.92968   , 56.2616    , 55.410325  , 55.642     , 55.0585    ,\n",
       "       55.0574    , 55.0585    , 54.8766    , 55.0252    , 55.34905   ,\n",
       "       55.3147    , 55.3565    , 55.31153333, 55.3565    , 55.5034    ,\n",
       "       55.59523333])"
      ]
     },
     "execution_count": 57,
     "metadata": {},
     "output_type": "execute_result"
    }
   ],
   "source": [
    "predicted_noise"
   ]
  },
  {
   "cell_type": "code",
   "execution_count": 58,
   "metadata": {},
   "outputs": [
    {
     "name": "stdout",
     "output_type": "stream",
     "text": [
      "(401,)\n",
      "<class 'numpy.ndarray'>\n"
     ]
    }
   ],
   "source": [
    "print(predicted_noise.shape)\n",
    "print(type(predicted_noise))"
   ]
  },
  {
   "cell_type": "code",
   "execution_count": 42,
   "metadata": {
    "scrolled": true
   },
   "outputs": [
    {
     "ename": "ValueError",
     "evalue": "Expected 2D array, got 1D array instead:\narray=[60.4 65.3 69.2 67.6 65.1 61.  61.5 61.6 66.3 64.8 64.5 61.2 62.1 59.3\n 59.8 62.4 63.4 64.3 63.4 62.8 62.5 62.6 65.6 66.2 65.1 61.4 58.8 61.1\n 62.1 60.7 64.2 65.3 62.  62.3 59.3 66.6 64.3 62.2 64.2 62.  65.  61.\n 65.1 66.5 67.2 64.5 70.1 66.8 61.4 63.7 67.5 65.9 60.5 62.2 67.3 65.5\n 63.6 67.2 61.9 63.2 61.7 62.  58.5 59.  61.4 66.3 64.8 62.7 60.4 61.6\n 60.2 61.1 61.1 61.7 60.2 63.7 61.7 65.6 63.2 65.2 67.  68.5 61.3 59.6\n 62.5 59.3 58.  58.5 62.8 61.1 62.1 59.7 30.1 60.6 61.  65.8 62.2 64.8\n 65.9 63.3 62.2 61.5 63.  67.9 62.6 61.9 59.1 62.4 61.6 67.  68.9 63.3\n 66.1 68.  65.6 65.3 66.1 66.3 64.7 64.8 68.  62.6 60.7 65.9 62.8 57.9\n 59.8 64.7 62.8 66.  62.3 61.6 59.4 60.3 65.9 68.9 62.8 58.2 61.8 60.7\n 62.4 60.8 62.3 63.4 65.5 66.  64.9 60.  62.4 62.8 66.6 61.5 59.1 59.2\n 60.6 63.4 66.6 54.4 64.1 64.5 67.5 67.5 64.2 63.2 67.1 69.6 66.1 64.5\n 66.4 69.2 69.6 69.7 68.6 67.9 66.6 64.6 64.  61.7 64.6 67.2 66.  67.8\n 67.4 66.3 61.  59.9 58.7 64.2 64.6 66.  64.  66.7 66.4 62.9 60.4 66.3\n 66.7 64.8 64.3 62.  63.3 63.4 67.3 65.6 67.8 68.5 69.9 68.  70.4 65.9\n 65.5 65.6 65.2 65.4 62.4 63.9 65.2 69.  65.1 67.5 67.1 68.6 67.3 66.1\n 62.  64.5 67.5 59.6 62.5 62.5 64.4 66.8 67.4 67.4 67.7 63.7 61.6 63.9\n 68.  68.2 66.5 67.2 67.3 69.5 66.8 64.7 62.9 63.6 67.8 69.1 70.6 66.9\n 62.6 60.9 58.5 63.7 68.4 68.1 67.1 66.6 66.9 69.2 69.  67.1 65.  65.7\n 64.8 65.  66.9 69.5 66.6 65.7 67.9 65.7 64.4 68.4 60.8 60.  61.6 61.3\n 57.7 57.7 60.3 60.6 58.8 56.3 56.2 59.3 63.5 68.2 67.  65.5 63.5 65.3\n 65.5 62.9 67.4 65.8 62.5 60.6 59.9 58.6 60.4 61.9 63.9 62.1 64.3 66.1\n 64.9 67.8 67.4 67.9 68.2 67.5 69.3 67.3 66.8 67.6 67.6 68.6 66.1 63.2\n 59.3 61.2 64.5 62.4 62.2 62.2 61.1 61.9 61.6 60.7 62.6 64.4 63.8 66.9\n 68.1 66.4 68.5 68.9 67.2 64.9 68.1 63.  63.6 64.5 62.4 63.4 65.4 63.3\n 68.7 69.  68.3 66.3 68.7 67.9 65.2 65.  63.2 62.1 60.1 61.3 60.5 60.6\n 64.  63.2 64.  66.9 68.  63.1 58.  58.  63.9 67.8 68.9 64.4 63.1 66.5\n 65.9 67.  66.4 65.3 64.8 64.4 63.8 62.2 61.5 64.8 62.6 61.8 62.8 61.3\n 65.5 69.3 70.3 69.1 68.7 69.4 68.8 66.7 61.3].\nReshape your data either using array.reshape(-1, 1) if your data has a single feature or array.reshape(1, -1) if it contains a single sample.",
     "output_type": "error",
     "traceback": [
      "\u001b[0;31m---------------------------------------------------------------------------\u001b[0m",
      "\u001b[0;31mValueError\u001b[0m                                Traceback (most recent call last)",
      "\u001b[0;32m<ipython-input-42-d401072969f8>\u001b[0m in \u001b[0;36m<module>\u001b[0;34m()\u001b[0m\n\u001b[0;32m----> 1\u001b[0;31m \u001b[0mmy_model\u001b[0m\u001b[0;34m.\u001b[0m\u001b[0mscore\u001b[0m\u001b[0;34m(\u001b[0m\u001b[0mtest_y\u001b[0m\u001b[0;34m,\u001b[0m\u001b[0mpredicted_noise\u001b[0m\u001b[0;34m)\u001b[0m\u001b[0;34m\u001b[0m\u001b[0m\n\u001b[0m",
      "\u001b[0;32m~/anaconda3/envs/tf/lib/python3.6/site-packages/sklearn/base.py\u001b[0m in \u001b[0;36mscore\u001b[0;34m(self, X, y, sample_weight)\u001b[0m\n\u001b[1;32m    384\u001b[0m \u001b[0;34m\u001b[0m\u001b[0m\n\u001b[1;32m    385\u001b[0m         \u001b[0;32mfrom\u001b[0m \u001b[0;34m.\u001b[0m\u001b[0mmetrics\u001b[0m \u001b[0;32mimport\u001b[0m \u001b[0mr2_score\u001b[0m\u001b[0;34m\u001b[0m\u001b[0m\n\u001b[0;32m--> 386\u001b[0;31m         return r2_score(y, self.predict(X), sample_weight=sample_weight,\n\u001b[0m\u001b[1;32m    387\u001b[0m                         multioutput='variance_weighted')\n\u001b[1;32m    388\u001b[0m \u001b[0;34m\u001b[0m\u001b[0m\n",
      "\u001b[0;32m~/anaconda3/envs/tf/lib/python3.6/site-packages/sklearn/ensemble/forest.py\u001b[0m in \u001b[0;36mpredict\u001b[0;34m(self, X)\u001b[0m\n\u001b[1;32m    679\u001b[0m         \u001b[0mcheck_is_fitted\u001b[0m\u001b[0;34m(\u001b[0m\u001b[0mself\u001b[0m\u001b[0;34m,\u001b[0m \u001b[0;34m'estimators_'\u001b[0m\u001b[0;34m)\u001b[0m\u001b[0;34m\u001b[0m\u001b[0m\n\u001b[1;32m    680\u001b[0m         \u001b[0;31m# Check data\u001b[0m\u001b[0;34m\u001b[0m\u001b[0;34m\u001b[0m\u001b[0m\n\u001b[0;32m--> 681\u001b[0;31m         \u001b[0mX\u001b[0m \u001b[0;34m=\u001b[0m \u001b[0mself\u001b[0m\u001b[0;34m.\u001b[0m\u001b[0m_validate_X_predict\u001b[0m\u001b[0;34m(\u001b[0m\u001b[0mX\u001b[0m\u001b[0;34m)\u001b[0m\u001b[0;34m\u001b[0m\u001b[0m\n\u001b[0m\u001b[1;32m    682\u001b[0m \u001b[0;34m\u001b[0m\u001b[0m\n\u001b[1;32m    683\u001b[0m         \u001b[0;31m# Assign chunk of trees to jobs\u001b[0m\u001b[0;34m\u001b[0m\u001b[0;34m\u001b[0m\u001b[0m\n",
      "\u001b[0;32m~/anaconda3/envs/tf/lib/python3.6/site-packages/sklearn/ensemble/forest.py\u001b[0m in \u001b[0;36m_validate_X_predict\u001b[0;34m(self, X)\u001b[0m\n\u001b[1;32m    355\u001b[0m                                  \"call `fit` before exploiting the model.\")\n\u001b[1;32m    356\u001b[0m \u001b[0;34m\u001b[0m\u001b[0m\n\u001b[0;32m--> 357\u001b[0;31m         \u001b[0;32mreturn\u001b[0m \u001b[0mself\u001b[0m\u001b[0;34m.\u001b[0m\u001b[0mestimators_\u001b[0m\u001b[0;34m[\u001b[0m\u001b[0;36m0\u001b[0m\u001b[0;34m]\u001b[0m\u001b[0;34m.\u001b[0m\u001b[0m_validate_X_predict\u001b[0m\u001b[0;34m(\u001b[0m\u001b[0mX\u001b[0m\u001b[0;34m,\u001b[0m \u001b[0mcheck_input\u001b[0m\u001b[0;34m=\u001b[0m\u001b[0;32mTrue\u001b[0m\u001b[0;34m)\u001b[0m\u001b[0;34m\u001b[0m\u001b[0m\n\u001b[0m\u001b[1;32m    358\u001b[0m \u001b[0;34m\u001b[0m\u001b[0m\n\u001b[1;32m    359\u001b[0m     \u001b[0;34m@\u001b[0m\u001b[0mproperty\u001b[0m\u001b[0;34m\u001b[0m\u001b[0m\n",
      "\u001b[0;32m~/anaconda3/envs/tf/lib/python3.6/site-packages/sklearn/tree/tree.py\u001b[0m in \u001b[0;36m_validate_X_predict\u001b[0;34m(self, X, check_input)\u001b[0m\n\u001b[1;32m    371\u001b[0m         \u001b[0;34m\"\"\"Validate X whenever one tries to predict, apply, predict_proba\"\"\"\u001b[0m\u001b[0;34m\u001b[0m\u001b[0m\n\u001b[1;32m    372\u001b[0m         \u001b[0;32mif\u001b[0m \u001b[0mcheck_input\u001b[0m\u001b[0;34m:\u001b[0m\u001b[0;34m\u001b[0m\u001b[0m\n\u001b[0;32m--> 373\u001b[0;31m             \u001b[0mX\u001b[0m \u001b[0;34m=\u001b[0m \u001b[0mcheck_array\u001b[0m\u001b[0;34m(\u001b[0m\u001b[0mX\u001b[0m\u001b[0;34m,\u001b[0m \u001b[0mdtype\u001b[0m\u001b[0;34m=\u001b[0m\u001b[0mDTYPE\u001b[0m\u001b[0;34m,\u001b[0m \u001b[0maccept_sparse\u001b[0m\u001b[0;34m=\u001b[0m\u001b[0;34m\"csr\"\u001b[0m\u001b[0;34m)\u001b[0m\u001b[0;34m\u001b[0m\u001b[0m\n\u001b[0m\u001b[1;32m    374\u001b[0m             if issparse(X) and (X.indices.dtype != np.intc or\n\u001b[1;32m    375\u001b[0m                                 X.indptr.dtype != np.intc):\n",
      "\u001b[0;32m~/anaconda3/envs/tf/lib/python3.6/site-packages/sklearn/utils/validation.py\u001b[0m in \u001b[0;36mcheck_array\u001b[0;34m(array, accept_sparse, dtype, order, copy, force_all_finite, ensure_2d, allow_nd, ensure_min_samples, ensure_min_features, warn_on_dtype, estimator)\u001b[0m\n\u001b[1;32m    439\u001b[0m                     \u001b[0;34m\"Reshape your data either using array.reshape(-1, 1) if \"\u001b[0m\u001b[0;34m\u001b[0m\u001b[0m\n\u001b[1;32m    440\u001b[0m                     \u001b[0;34m\"your data has a single feature or array.reshape(1, -1) \"\u001b[0m\u001b[0;34m\u001b[0m\u001b[0m\n\u001b[0;32m--> 441\u001b[0;31m                     \"if it contains a single sample.\".format(array))\n\u001b[0m\u001b[1;32m    442\u001b[0m             \u001b[0marray\u001b[0m \u001b[0;34m=\u001b[0m \u001b[0mnp\u001b[0m\u001b[0;34m.\u001b[0m\u001b[0matleast_2d\u001b[0m\u001b[0;34m(\u001b[0m\u001b[0marray\u001b[0m\u001b[0;34m)\u001b[0m\u001b[0;34m\u001b[0m\u001b[0m\n\u001b[1;32m    443\u001b[0m             \u001b[0;31m# To ensure that array flags are maintained\u001b[0m\u001b[0;34m\u001b[0m\u001b[0;34m\u001b[0m\u001b[0m\n",
      "\u001b[0;31mValueError\u001b[0m: Expected 2D array, got 1D array instead:\narray=[60.4 65.3 69.2 67.6 65.1 61.  61.5 61.6 66.3 64.8 64.5 61.2 62.1 59.3\n 59.8 62.4 63.4 64.3 63.4 62.8 62.5 62.6 65.6 66.2 65.1 61.4 58.8 61.1\n 62.1 60.7 64.2 65.3 62.  62.3 59.3 66.6 64.3 62.2 64.2 62.  65.  61.\n 65.1 66.5 67.2 64.5 70.1 66.8 61.4 63.7 67.5 65.9 60.5 62.2 67.3 65.5\n 63.6 67.2 61.9 63.2 61.7 62.  58.5 59.  61.4 66.3 64.8 62.7 60.4 61.6\n 60.2 61.1 61.1 61.7 60.2 63.7 61.7 65.6 63.2 65.2 67.  68.5 61.3 59.6\n 62.5 59.3 58.  58.5 62.8 61.1 62.1 59.7 30.1 60.6 61.  65.8 62.2 64.8\n 65.9 63.3 62.2 61.5 63.  67.9 62.6 61.9 59.1 62.4 61.6 67.  68.9 63.3\n 66.1 68.  65.6 65.3 66.1 66.3 64.7 64.8 68.  62.6 60.7 65.9 62.8 57.9\n 59.8 64.7 62.8 66.  62.3 61.6 59.4 60.3 65.9 68.9 62.8 58.2 61.8 60.7\n 62.4 60.8 62.3 63.4 65.5 66.  64.9 60.  62.4 62.8 66.6 61.5 59.1 59.2\n 60.6 63.4 66.6 54.4 64.1 64.5 67.5 67.5 64.2 63.2 67.1 69.6 66.1 64.5\n 66.4 69.2 69.6 69.7 68.6 67.9 66.6 64.6 64.  61.7 64.6 67.2 66.  67.8\n 67.4 66.3 61.  59.9 58.7 64.2 64.6 66.  64.  66.7 66.4 62.9 60.4 66.3\n 66.7 64.8 64.3 62.  63.3 63.4 67.3 65.6 67.8 68.5 69.9 68.  70.4 65.9\n 65.5 65.6 65.2 65.4 62.4 63.9 65.2 69.  65.1 67.5 67.1 68.6 67.3 66.1\n 62.  64.5 67.5 59.6 62.5 62.5 64.4 66.8 67.4 67.4 67.7 63.7 61.6 63.9\n 68.  68.2 66.5 67.2 67.3 69.5 66.8 64.7 62.9 63.6 67.8 69.1 70.6 66.9\n 62.6 60.9 58.5 63.7 68.4 68.1 67.1 66.6 66.9 69.2 69.  67.1 65.  65.7\n 64.8 65.  66.9 69.5 66.6 65.7 67.9 65.7 64.4 68.4 60.8 60.  61.6 61.3\n 57.7 57.7 60.3 60.6 58.8 56.3 56.2 59.3 63.5 68.2 67.  65.5 63.5 65.3\n 65.5 62.9 67.4 65.8 62.5 60.6 59.9 58.6 60.4 61.9 63.9 62.1 64.3 66.1\n 64.9 67.8 67.4 67.9 68.2 67.5 69.3 67.3 66.8 67.6 67.6 68.6 66.1 63.2\n 59.3 61.2 64.5 62.4 62.2 62.2 61.1 61.9 61.6 60.7 62.6 64.4 63.8 66.9\n 68.1 66.4 68.5 68.9 67.2 64.9 68.1 63.  63.6 64.5 62.4 63.4 65.4 63.3\n 68.7 69.  68.3 66.3 68.7 67.9 65.2 65.  63.2 62.1 60.1 61.3 60.5 60.6\n 64.  63.2 64.  66.9 68.  63.1 58.  58.  63.9 67.8 68.9 64.4 63.1 66.5\n 65.9 67.  66.4 65.3 64.8 64.4 63.8 62.2 61.5 64.8 62.6 61.8 62.8 61.3\n 65.5 69.3 70.3 69.1 68.7 69.4 68.8 66.7 61.3].\nReshape your data either using array.reshape(-1, 1) if your data has a single feature or array.reshape(1, -1) if it contains a single sample."
     ]
    }
   ],
   "source": [
    "my_model.score(test_y,predicted_noise)"
   ]
  },
  {
   "cell_type": "code",
   "execution_count": 59,
   "metadata": {},
   "outputs": [],
   "source": [
    "from sklearn.metrics import mean_squared_error\n",
    "mse = mean_squared_error(test_y, predicted_noise)"
   ]
  },
  {
   "cell_type": "code",
   "execution_count": 60,
   "metadata": {},
   "outputs": [
    {
     "data": {
      "text/plain": [
       "54.069898491984105"
      ]
     },
     "execution_count": 60,
     "metadata": {},
     "output_type": "execute_result"
    }
   ],
   "source": [
    "mse"
   ]
  },
  {
   "cell_type": "code",
   "execution_count": 46,
   "metadata": {},
   "outputs": [],
   "source": [
    "from sklearn import linear_model\n",
    "model = linear_model.LinearRegression()"
   ]
  },
  {
   "cell_type": "code",
   "execution_count": 51,
   "metadata": {},
   "outputs": [],
   "source": [
    "model.fit(train_X, train_y)\n",
    "predicted_noise = model.predict(test_X)"
   ]
  },
  {
   "cell_type": "code",
   "execution_count": 52,
   "metadata": {},
   "outputs": [
    {
     "data": {
      "text/plain": [
       "51.8967575198026"
      ]
     },
     "execution_count": 52,
     "metadata": {},
     "output_type": "execute_result"
    }
   ],
   "source": [
    "mse = mean_squared_error(test_y, predicted_noise)\n",
    "mse"
   ]
  },
  {
   "cell_type": "code",
   "execution_count": 53,
   "metadata": {},
   "outputs": [],
   "source": [
    "from sklearn.ensemble import GradientBoostingRegressor\n",
    "GBR = GradientBoostingRegressor(n_estimators=100, max_depth=4)\n",
    "\n",
    "GBR.fit(train_X, train_y)\n",
    "predicted_noise = GBR.predict(test_X)"
   ]
  },
  {
   "cell_type": "code",
   "execution_count": 54,
   "metadata": {},
   "outputs": [
    {
     "data": {
      "text/plain": [
       "56.580083691505465"
      ]
     },
     "execution_count": 54,
     "metadata": {},
     "output_type": "execute_result"
    }
   ],
   "source": [
    "mse = mean_squared_error(test_y, predicted_noise)\n",
    "mse"
   ]
  },
  {
   "cell_type": "code",
   "execution_count": null,
   "metadata": {},
   "outputs": [],
   "source": []
  }
 ],
 "metadata": {
  "kernelspec": {
   "display_name": "Python 3",
   "language": "python",
   "name": "python3"
  },
  "language_info": {
   "codemirror_mode": {
    "name": "ipython",
    "version": 3
   },
   "file_extension": ".py",
   "mimetype": "text/x-python",
   "name": "python",
   "nbconvert_exporter": "python",
   "pygments_lexer": "ipython3",
   "version": "3.6.5"
  }
 },
 "nbformat": 4,
 "nbformat_minor": 2
}
