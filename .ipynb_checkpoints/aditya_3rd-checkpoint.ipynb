{
 "cells": [
  {
   "cell_type": "code",
   "execution_count": 1,
   "metadata": {},
   "outputs": [
    {
     "name": "stderr",
     "output_type": "stream",
     "text": [
      "/home/riktim/anaconda3/envs/jde/lib/python3.6/importlib/_bootstrap.py:219: RuntimeWarning: numpy.dtype size changed, may indicate binary incompatibility. Expected 96, got 88\n",
      "  return f(*args, **kwds)\n",
      "/home/riktim/anaconda3/envs/jde/lib/python3.6/importlib/_bootstrap.py:219: RuntimeWarning: numpy.dtype size changed, may indicate binary incompatibility. Expected 96, got 88\n",
      "  return f(*args, **kwds)\n"
     ]
    }
   ],
   "source": [
    "import numpy as np\n",
    "import pandas as pd\n",
    "from sklearn.ensemble import RandomForestRegressor\n",
    "from sklearn.metrics import mean_squared_error\n",
    "from datetime import datetime\n",
    "\n",
    "import seaborn as sns\n",
    "sns.set()\n",
    "%matplotlib inline\n",
    "# Read the data\n",
    "data= pd.read_csv('./data/n1.csv')"
   ]
  },
  {
   "cell_type": "code",
   "execution_count": 2,
   "metadata": {},
   "outputs": [
    {
     "data": {
      "text/html": [
       "<div>\n",
       "<style scoped>\n",
       "    .dataframe tbody tr th:only-of-type {\n",
       "        vertical-align: middle;\n",
       "    }\n",
       "\n",
       "    .dataframe tbody tr th {\n",
       "        vertical-align: top;\n",
       "    }\n",
       "\n",
       "    .dataframe thead th {\n",
       "        text-align: right;\n",
       "    }\n",
       "</style>\n",
       "<table border=\"1\" class=\"dataframe\">\n",
       "  <thead>\n",
       "    <tr style=\"text-align: right;\">\n",
       "      <th></th>\n",
       "      <th>username</th>\n",
       "      <th>latitude</th>\n",
       "      <th>longitude</th>\n",
       "      <th>noise_value</th>\n",
       "      <th>timestamp</th>\n",
       "      <th>tolerance_level</th>\n",
       "      <th>noise_category</th>\n",
       "      <th>region_category</th>\n",
       "      <th>aqi_value</th>\n",
       "    </tr>\n",
       "  </thead>\n",
       "  <tbody>\n",
       "    <tr>\n",
       "      <th>0</th>\n",
       "      <td>Abhimanyu</td>\n",
       "      <td>22.498528</td>\n",
       "      <td>88.383528</td>\n",
       "      <td>32.6</td>\n",
       "      <td>21-01-2018 02:01</td>\n",
       "      <td>Normal</td>\n",
       "      <td>Traffic</td>\n",
       "      <td>Street/Road</td>\n",
       "      <td>0</td>\n",
       "    </tr>\n",
       "    <tr>\n",
       "      <th>1</th>\n",
       "      <td>Abhimanyu</td>\n",
       "      <td>22.498607</td>\n",
       "      <td>88.383522</td>\n",
       "      <td>59.8</td>\n",
       "      <td>21-01-2018 02:01</td>\n",
       "      <td>Normal</td>\n",
       "      <td>Traffic</td>\n",
       "      <td>Street/Road</td>\n",
       "      <td>0</td>\n",
       "    </tr>\n",
       "    <tr>\n",
       "      <th>2</th>\n",
       "      <td>Abhimanyu</td>\n",
       "      <td>22.498643</td>\n",
       "      <td>88.383500</td>\n",
       "      <td>60.1</td>\n",
       "      <td>21-01-2018 02:01</td>\n",
       "      <td>Normal</td>\n",
       "      <td>Traffic</td>\n",
       "      <td>Street/Road</td>\n",
       "      <td>0</td>\n",
       "    </tr>\n",
       "    <tr>\n",
       "      <th>3</th>\n",
       "      <td>Abhimanyu</td>\n",
       "      <td>22.498713</td>\n",
       "      <td>88.383553</td>\n",
       "      <td>60.8</td>\n",
       "      <td>21-01-2018 02:02</td>\n",
       "      <td>Normal</td>\n",
       "      <td>Traffic</td>\n",
       "      <td>Street/Road</td>\n",
       "      <td>0</td>\n",
       "    </tr>\n",
       "    <tr>\n",
       "      <th>4</th>\n",
       "      <td>Abhimanyu</td>\n",
       "      <td>22.498770</td>\n",
       "      <td>88.383603</td>\n",
       "      <td>56.3</td>\n",
       "      <td>21-01-2018 02:02</td>\n",
       "      <td>Normal</td>\n",
       "      <td>Traffic</td>\n",
       "      <td>Street/Road</td>\n",
       "      <td>0</td>\n",
       "    </tr>\n",
       "    <tr>\n",
       "      <th>5</th>\n",
       "      <td>Abhimanyu</td>\n",
       "      <td>22.498777</td>\n",
       "      <td>88.383675</td>\n",
       "      <td>54.5</td>\n",
       "      <td>21-01-2018 02:02</td>\n",
       "      <td>Normal</td>\n",
       "      <td>Traffic</td>\n",
       "      <td>Street/Road</td>\n",
       "      <td>0</td>\n",
       "    </tr>\n",
       "    <tr>\n",
       "      <th>6</th>\n",
       "      <td>Abhimanyu</td>\n",
       "      <td>22.498763</td>\n",
       "      <td>88.383717</td>\n",
       "      <td>51.5</td>\n",
       "      <td>21-01-2018 02:02</td>\n",
       "      <td>Normal</td>\n",
       "      <td>Traffic</td>\n",
       "      <td>Street/Road</td>\n",
       "      <td>0</td>\n",
       "    </tr>\n",
       "    <tr>\n",
       "      <th>7</th>\n",
       "      <td>Abhimanyu</td>\n",
       "      <td>22.498783</td>\n",
       "      <td>88.383773</td>\n",
       "      <td>51.1</td>\n",
       "      <td>21-01-2018 02:02</td>\n",
       "      <td>Normal</td>\n",
       "      <td>Traffic</td>\n",
       "      <td>Street/Road</td>\n",
       "      <td>0</td>\n",
       "    </tr>\n",
       "    <tr>\n",
       "      <th>8</th>\n",
       "      <td>Abhimanyu</td>\n",
       "      <td>22.498817</td>\n",
       "      <td>88.383827</td>\n",
       "      <td>60.3</td>\n",
       "      <td>21-01-2018 02:02</td>\n",
       "      <td>Normal</td>\n",
       "      <td>Traffic</td>\n",
       "      <td>Street/Road</td>\n",
       "      <td>0</td>\n",
       "    </tr>\n",
       "    <tr>\n",
       "      <th>9</th>\n",
       "      <td>Abhimanyu</td>\n",
       "      <td>22.498830</td>\n",
       "      <td>88.383833</td>\n",
       "      <td>69.3</td>\n",
       "      <td>21-01-2018 02:02</td>\n",
       "      <td>Normal</td>\n",
       "      <td>Traffic</td>\n",
       "      <td>Street/Road</td>\n",
       "      <td>0</td>\n",
       "    </tr>\n",
       "  </tbody>\n",
       "</table>\n",
       "</div>"
      ],
      "text/plain": [
       "    username   latitude  longitude  noise_value         timestamp  \\\n",
       "0  Abhimanyu  22.498528  88.383528         32.6  21-01-2018 02:01   \n",
       "1  Abhimanyu  22.498607  88.383522         59.8  21-01-2018 02:01   \n",
       "2  Abhimanyu  22.498643  88.383500         60.1  21-01-2018 02:01   \n",
       "3  Abhimanyu  22.498713  88.383553         60.8  21-01-2018 02:02   \n",
       "4  Abhimanyu  22.498770  88.383603         56.3  21-01-2018 02:02   \n",
       "5  Abhimanyu  22.498777  88.383675         54.5  21-01-2018 02:02   \n",
       "6  Abhimanyu  22.498763  88.383717         51.5  21-01-2018 02:02   \n",
       "7  Abhimanyu  22.498783  88.383773         51.1  21-01-2018 02:02   \n",
       "8  Abhimanyu  22.498817  88.383827         60.3  21-01-2018 02:02   \n",
       "9  Abhimanyu  22.498830  88.383833         69.3  21-01-2018 02:02   \n",
       "\n",
       "  tolerance_level noise_category region_category  aqi_value  \n",
       "0          Normal        Traffic     Street/Road          0  \n",
       "1          Normal        Traffic     Street/Road          0  \n",
       "2          Normal        Traffic     Street/Road          0  \n",
       "3          Normal        Traffic     Street/Road          0  \n",
       "4          Normal        Traffic     Street/Road          0  \n",
       "5          Normal        Traffic     Street/Road          0  \n",
       "6          Normal        Traffic     Street/Road          0  \n",
       "7          Normal        Traffic     Street/Road          0  \n",
       "8          Normal        Traffic     Street/Road          0  \n",
       "9          Normal        Traffic     Street/Road          0  "
      ]
     },
     "execution_count": 2,
     "metadata": {},
     "output_type": "execute_result"
    }
   ],
   "source": [
    "data.head(10)"
   ]
  },
  {
   "cell_type": "code",
   "execution_count": 3,
   "metadata": {},
   "outputs": [],
   "source": [
    "data['population_type'] = data['noise_value'].apply(lambda x: 1 if x >=61 else 0)\n",
    "#data['value']=data['noise_value'].apply(lambda x: 0 if x >=61 else 0)"
   ]
  },
  {
   "cell_type": "code",
   "execution_count": 4,
   "metadata": {},
   "outputs": [
    {
     "data": {
      "text/html": [
       "<div>\n",
       "<style scoped>\n",
       "    .dataframe tbody tr th:only-of-type {\n",
       "        vertical-align: middle;\n",
       "    }\n",
       "\n",
       "    .dataframe tbody tr th {\n",
       "        vertical-align: top;\n",
       "    }\n",
       "\n",
       "    .dataframe thead th {\n",
       "        text-align: right;\n",
       "    }\n",
       "</style>\n",
       "<table border=\"1\" class=\"dataframe\">\n",
       "  <thead>\n",
       "    <tr style=\"text-align: right;\">\n",
       "      <th></th>\n",
       "      <th>username</th>\n",
       "      <th>latitude</th>\n",
       "      <th>longitude</th>\n",
       "      <th>noise_value</th>\n",
       "      <th>timestamp</th>\n",
       "      <th>tolerance_level</th>\n",
       "      <th>noise_category</th>\n",
       "      <th>region_category</th>\n",
       "      <th>aqi_value</th>\n",
       "      <th>population_type</th>\n",
       "    </tr>\n",
       "  </thead>\n",
       "  <tbody>\n",
       "    <tr>\n",
       "      <th>0</th>\n",
       "      <td>Abhimanyu</td>\n",
       "      <td>22.498528</td>\n",
       "      <td>88.383528</td>\n",
       "      <td>32.6</td>\n",
       "      <td>21-01-2018 02:01</td>\n",
       "      <td>Normal</td>\n",
       "      <td>Traffic</td>\n",
       "      <td>Street/Road</td>\n",
       "      <td>0</td>\n",
       "      <td>0</td>\n",
       "    </tr>\n",
       "    <tr>\n",
       "      <th>1</th>\n",
       "      <td>Abhimanyu</td>\n",
       "      <td>22.498607</td>\n",
       "      <td>88.383522</td>\n",
       "      <td>59.8</td>\n",
       "      <td>21-01-2018 02:01</td>\n",
       "      <td>Normal</td>\n",
       "      <td>Traffic</td>\n",
       "      <td>Street/Road</td>\n",
       "      <td>0</td>\n",
       "      <td>0</td>\n",
       "    </tr>\n",
       "    <tr>\n",
       "      <th>2</th>\n",
       "      <td>Abhimanyu</td>\n",
       "      <td>22.498643</td>\n",
       "      <td>88.383500</td>\n",
       "      <td>60.1</td>\n",
       "      <td>21-01-2018 02:01</td>\n",
       "      <td>Normal</td>\n",
       "      <td>Traffic</td>\n",
       "      <td>Street/Road</td>\n",
       "      <td>0</td>\n",
       "      <td>0</td>\n",
       "    </tr>\n",
       "    <tr>\n",
       "      <th>3</th>\n",
       "      <td>Abhimanyu</td>\n",
       "      <td>22.498713</td>\n",
       "      <td>88.383553</td>\n",
       "      <td>60.8</td>\n",
       "      <td>21-01-2018 02:02</td>\n",
       "      <td>Normal</td>\n",
       "      <td>Traffic</td>\n",
       "      <td>Street/Road</td>\n",
       "      <td>0</td>\n",
       "      <td>0</td>\n",
       "    </tr>\n",
       "    <tr>\n",
       "      <th>4</th>\n",
       "      <td>Abhimanyu</td>\n",
       "      <td>22.498770</td>\n",
       "      <td>88.383603</td>\n",
       "      <td>56.3</td>\n",
       "      <td>21-01-2018 02:02</td>\n",
       "      <td>Normal</td>\n",
       "      <td>Traffic</td>\n",
       "      <td>Street/Road</td>\n",
       "      <td>0</td>\n",
       "      <td>0</td>\n",
       "    </tr>\n",
       "    <tr>\n",
       "      <th>5</th>\n",
       "      <td>Abhimanyu</td>\n",
       "      <td>22.498777</td>\n",
       "      <td>88.383675</td>\n",
       "      <td>54.5</td>\n",
       "      <td>21-01-2018 02:02</td>\n",
       "      <td>Normal</td>\n",
       "      <td>Traffic</td>\n",
       "      <td>Street/Road</td>\n",
       "      <td>0</td>\n",
       "      <td>0</td>\n",
       "    </tr>\n",
       "    <tr>\n",
       "      <th>6</th>\n",
       "      <td>Abhimanyu</td>\n",
       "      <td>22.498763</td>\n",
       "      <td>88.383717</td>\n",
       "      <td>51.5</td>\n",
       "      <td>21-01-2018 02:02</td>\n",
       "      <td>Normal</td>\n",
       "      <td>Traffic</td>\n",
       "      <td>Street/Road</td>\n",
       "      <td>0</td>\n",
       "      <td>0</td>\n",
       "    </tr>\n",
       "    <tr>\n",
       "      <th>7</th>\n",
       "      <td>Abhimanyu</td>\n",
       "      <td>22.498783</td>\n",
       "      <td>88.383773</td>\n",
       "      <td>51.1</td>\n",
       "      <td>21-01-2018 02:02</td>\n",
       "      <td>Normal</td>\n",
       "      <td>Traffic</td>\n",
       "      <td>Street/Road</td>\n",
       "      <td>0</td>\n",
       "      <td>0</td>\n",
       "    </tr>\n",
       "    <tr>\n",
       "      <th>8</th>\n",
       "      <td>Abhimanyu</td>\n",
       "      <td>22.498817</td>\n",
       "      <td>88.383827</td>\n",
       "      <td>60.3</td>\n",
       "      <td>21-01-2018 02:02</td>\n",
       "      <td>Normal</td>\n",
       "      <td>Traffic</td>\n",
       "      <td>Street/Road</td>\n",
       "      <td>0</td>\n",
       "      <td>0</td>\n",
       "    </tr>\n",
       "    <tr>\n",
       "      <th>9</th>\n",
       "      <td>Abhimanyu</td>\n",
       "      <td>22.498830</td>\n",
       "      <td>88.383833</td>\n",
       "      <td>69.3</td>\n",
       "      <td>21-01-2018 02:02</td>\n",
       "      <td>Normal</td>\n",
       "      <td>Traffic</td>\n",
       "      <td>Street/Road</td>\n",
       "      <td>0</td>\n",
       "      <td>1</td>\n",
       "    </tr>\n",
       "  </tbody>\n",
       "</table>\n",
       "</div>"
      ],
      "text/plain": [
       "    username   latitude  longitude  noise_value         timestamp  \\\n",
       "0  Abhimanyu  22.498528  88.383528         32.6  21-01-2018 02:01   \n",
       "1  Abhimanyu  22.498607  88.383522         59.8  21-01-2018 02:01   \n",
       "2  Abhimanyu  22.498643  88.383500         60.1  21-01-2018 02:01   \n",
       "3  Abhimanyu  22.498713  88.383553         60.8  21-01-2018 02:02   \n",
       "4  Abhimanyu  22.498770  88.383603         56.3  21-01-2018 02:02   \n",
       "5  Abhimanyu  22.498777  88.383675         54.5  21-01-2018 02:02   \n",
       "6  Abhimanyu  22.498763  88.383717         51.5  21-01-2018 02:02   \n",
       "7  Abhimanyu  22.498783  88.383773         51.1  21-01-2018 02:02   \n",
       "8  Abhimanyu  22.498817  88.383827         60.3  21-01-2018 02:02   \n",
       "9  Abhimanyu  22.498830  88.383833         69.3  21-01-2018 02:02   \n",
       "\n",
       "  tolerance_level noise_category region_category  aqi_value  population_type  \n",
       "0          Normal        Traffic     Street/Road          0                0  \n",
       "1          Normal        Traffic     Street/Road          0                0  \n",
       "2          Normal        Traffic     Street/Road          0                0  \n",
       "3          Normal        Traffic     Street/Road          0                0  \n",
       "4          Normal        Traffic     Street/Road          0                0  \n",
       "5          Normal        Traffic     Street/Road          0                0  \n",
       "6          Normal        Traffic     Street/Road          0                0  \n",
       "7          Normal        Traffic     Street/Road          0                0  \n",
       "8          Normal        Traffic     Street/Road          0                0  \n",
       "9          Normal        Traffic     Street/Road          0                1  "
      ]
     },
     "execution_count": 4,
     "metadata": {},
     "output_type": "execute_result"
    }
   ],
   "source": [
    "data.head(10)"
   ]
  },
  {
   "cell_type": "code",
   "execution_count": 5,
   "metadata": {},
   "outputs": [
    {
     "name": "stdout",
     "output_type": "stream",
     "text": [
      "<class 'pandas.core.frame.DataFrame'>\n",
      "RangeIndex: 1997 entries, 0 to 1996\n",
      "Data columns (total 10 columns):\n",
      "username           1997 non-null object\n",
      "latitude           1997 non-null float64\n",
      "longitude          1997 non-null float64\n",
      "noise_value        1997 non-null float64\n",
      "timestamp          1997 non-null object\n",
      "tolerance_level    1997 non-null object\n",
      "noise_category     1997 non-null object\n",
      "region_category    1997 non-null object\n",
      "aqi_value          1997 non-null int64\n",
      "population_type    1997 non-null int64\n",
      "dtypes: float64(3), int64(2), object(5)\n",
      "memory usage: 156.1+ KB\n"
     ]
    }
   ],
   "source": [
    "data.info()"
   ]
  },
  {
   "cell_type": "code",
   "execution_count": null,
   "metadata": {},
   "outputs": [],
   "source": []
  },
  {
   "cell_type": "code",
   "execution_count": 6,
   "metadata": {},
   "outputs": [
    {
     "data": {
      "text/html": [
       "<div>\n",
       "<style scoped>\n",
       "    .dataframe tbody tr th:only-of-type {\n",
       "        vertical-align: middle;\n",
       "    }\n",
       "\n",
       "    .dataframe tbody tr th {\n",
       "        vertical-align: top;\n",
       "    }\n",
       "\n",
       "    .dataframe thead th {\n",
       "        text-align: right;\n",
       "    }\n",
       "</style>\n",
       "<table border=\"1\" class=\"dataframe\">\n",
       "  <thead>\n",
       "    <tr style=\"text-align: right;\">\n",
       "      <th></th>\n",
       "      <th>latitude</th>\n",
       "      <th>longitude</th>\n",
       "      <th>noise_value</th>\n",
       "      <th>aqi_value</th>\n",
       "      <th>population_type</th>\n",
       "    </tr>\n",
       "  </thead>\n",
       "  <tbody>\n",
       "    <tr>\n",
       "      <th>count</th>\n",
       "      <td>1997.000000</td>\n",
       "      <td>1997.000000</td>\n",
       "      <td>1997.000000</td>\n",
       "      <td>1997.0</td>\n",
       "      <td>1997.000000</td>\n",
       "    </tr>\n",
       "    <tr>\n",
       "      <th>mean</th>\n",
       "      <td>22.498156</td>\n",
       "      <td>88.385192</td>\n",
       "      <td>58.200801</td>\n",
       "      <td>0.0</td>\n",
       "      <td>0.450676</td>\n",
       "    </tr>\n",
       "    <tr>\n",
       "      <th>std</th>\n",
       "      <td>0.004231</td>\n",
       "      <td>0.009816</td>\n",
       "      <td>8.717776</td>\n",
       "      <td>0.0</td>\n",
       "      <td>0.497686</td>\n",
       "    </tr>\n",
       "    <tr>\n",
       "      <th>min</th>\n",
       "      <td>22.489717</td>\n",
       "      <td>88.368027</td>\n",
       "      <td>8.300000</td>\n",
       "      <td>0.0</td>\n",
       "      <td>0.000000</td>\n",
       "    </tr>\n",
       "    <tr>\n",
       "      <th>25%</th>\n",
       "      <td>22.493883</td>\n",
       "      <td>88.376387</td>\n",
       "      <td>54.800000</td>\n",
       "      <td>0.0</td>\n",
       "      <td>0.000000</td>\n",
       "    </tr>\n",
       "    <tr>\n",
       "      <th>50%</th>\n",
       "      <td>22.498317</td>\n",
       "      <td>88.384390</td>\n",
       "      <td>60.100000</td>\n",
       "      <td>0.0</td>\n",
       "      <td>0.000000</td>\n",
       "    </tr>\n",
       "    <tr>\n",
       "      <th>75%</th>\n",
       "      <td>22.502275</td>\n",
       "      <td>88.394295</td>\n",
       "      <td>64.200000</td>\n",
       "      <td>0.0</td>\n",
       "      <td>1.000000</td>\n",
       "    </tr>\n",
       "    <tr>\n",
       "      <th>max</th>\n",
       "      <td>22.504415</td>\n",
       "      <td>88.400582</td>\n",
       "      <td>75.700000</td>\n",
       "      <td>0.0</td>\n",
       "      <td>1.000000</td>\n",
       "    </tr>\n",
       "  </tbody>\n",
       "</table>\n",
       "</div>"
      ],
      "text/plain": [
       "          latitude    longitude  noise_value  aqi_value  population_type\n",
       "count  1997.000000  1997.000000  1997.000000     1997.0      1997.000000\n",
       "mean     22.498156    88.385192    58.200801        0.0         0.450676\n",
       "std       0.004231     0.009816     8.717776        0.0         0.497686\n",
       "min      22.489717    88.368027     8.300000        0.0         0.000000\n",
       "25%      22.493883    88.376387    54.800000        0.0         0.000000\n",
       "50%      22.498317    88.384390    60.100000        0.0         0.000000\n",
       "75%      22.502275    88.394295    64.200000        0.0         1.000000\n",
       "max      22.504415    88.400582    75.700000        0.0         1.000000"
      ]
     },
     "execution_count": 6,
     "metadata": {},
     "output_type": "execute_result"
    }
   ],
   "source": [
    "data.describe()"
   ]
  },
  {
   "cell_type": "code",
   "execution_count": 7,
   "metadata": {},
   "outputs": [
    {
     "name": "stdout",
     "output_type": "stream",
     "text": [
      "<class 'pandas.core.frame.DataFrame'>\n",
      "RangeIndex: 1997 entries, 0 to 1996\n",
      "Data columns (total 10 columns):\n",
      "username           1997 non-null object\n",
      "latitude           1997 non-null float64\n",
      "longitude          1997 non-null float64\n",
      "noise_value        1997 non-null float64\n",
      "timestamp          1997 non-null object\n",
      "tolerance_level    1997 non-null object\n",
      "noise_category     1997 non-null object\n",
      "region_category    1997 non-null object\n",
      "aqi_value          1997 non-null int64\n",
      "population_type    1997 non-null int64\n",
      "dtypes: float64(3), int64(2), object(5)\n",
      "memory usage: 156.1+ KB\n"
     ]
    }
   ],
   "source": [
    "data.info()"
   ]
  },
  {
   "cell_type": "code",
   "execution_count": null,
   "metadata": {},
   "outputs": [],
   "source": []
  },
  {
   "cell_type": "code",
   "execution_count": null,
   "metadata": {},
   "outputs": [],
   "source": []
  },
  {
   "cell_type": "code",
   "execution_count": 8,
   "metadata": {},
   "outputs": [
    {
     "name": "stdout",
     "output_type": "stream",
     "text": [
      "<class 'pandas.core.frame.DataFrame'>\n",
      "RangeIndex: 1997 entries, 0 to 1996\n",
      "Data columns (total 10 columns):\n",
      "username           1997 non-null object\n",
      "latitude           1997 non-null float64\n",
      "longitude          1997 non-null float64\n",
      "noise_value        1997 non-null float64\n",
      "timestamp          1997 non-null object\n",
      "tolerance_level    1997 non-null object\n",
      "noise_category     1997 non-null object\n",
      "region_category    1997 non-null object\n",
      "aqi_value          1997 non-null int64\n",
      "population_type    1997 non-null int64\n",
      "dtypes: float64(3), int64(2), object(5)\n",
      "memory usage: 156.1+ KB\n"
     ]
    }
   ],
   "source": [
    "data.info()"
   ]
  },
  {
   "cell_type": "code",
   "execution_count": null,
   "metadata": {},
   "outputs": [],
   "source": []
  },
  {
   "cell_type": "code",
   "execution_count": 9,
   "metadata": {},
   "outputs": [
    {
     "name": "stdout",
     "output_type": "stream",
     "text": [
      "<class 'pandas.core.frame.DataFrame'>\n",
      "RangeIndex: 1997 entries, 0 to 1996\n",
      "Data columns (total 10 columns):\n",
      "username           1997 non-null object\n",
      "latitude           1997 non-null float64\n",
      "longitude          1997 non-null float64\n",
      "noise_value        1997 non-null float64\n",
      "timestamp          1997 non-null object\n",
      "tolerance_level    1997 non-null object\n",
      "noise_category     1997 non-null object\n",
      "region_category    1997 non-null object\n",
      "aqi_value          1997 non-null int64\n",
      "population_type    1997 non-null int64\n",
      "dtypes: float64(3), int64(2), object(5)\n",
      "memory usage: 156.1+ KB\n"
     ]
    }
   ],
   "source": [
    "data.info()"
   ]
  },
  {
   "cell_type": "code",
   "execution_count": 10,
   "metadata": {},
   "outputs": [],
   "source": [
    "data.timestamp=pd.to_datetime(data.timestamp,format='%d-%m-%Y %H:%M')\n",
    "data['date'] = [d.date() for d in data['timestamp']]\n",
    "data['time'] = [d.time() for d in data['timestamp']]\n",
    "\n",
    "\n",
    "\n"
   ]
  },
  {
   "cell_type": "code",
   "execution_count": null,
   "metadata": {},
   "outputs": [],
   "source": []
  },
  {
   "cell_type": "code",
   "execution_count": 11,
   "metadata": {},
   "outputs": [
    {
     "data": {
      "text/html": [
       "<div>\n",
       "<style scoped>\n",
       "    .dataframe tbody tr th:only-of-type {\n",
       "        vertical-align: middle;\n",
       "    }\n",
       "\n",
       "    .dataframe tbody tr th {\n",
       "        vertical-align: top;\n",
       "    }\n",
       "\n",
       "    .dataframe thead th {\n",
       "        text-align: right;\n",
       "    }\n",
       "</style>\n",
       "<table border=\"1\" class=\"dataframe\">\n",
       "  <thead>\n",
       "    <tr style=\"text-align: right;\">\n",
       "      <th></th>\n",
       "      <th>username</th>\n",
       "      <th>latitude</th>\n",
       "      <th>longitude</th>\n",
       "      <th>noise_value</th>\n",
       "      <th>timestamp</th>\n",
       "      <th>tolerance_level</th>\n",
       "      <th>noise_category</th>\n",
       "      <th>region_category</th>\n",
       "      <th>aqi_value</th>\n",
       "      <th>population_type</th>\n",
       "      <th>date</th>\n",
       "      <th>time</th>\n",
       "    </tr>\n",
       "  </thead>\n",
       "  <tbody>\n",
       "    <tr>\n",
       "      <th>0</th>\n",
       "      <td>Abhimanyu</td>\n",
       "      <td>22.498528</td>\n",
       "      <td>88.383528</td>\n",
       "      <td>32.6</td>\n",
       "      <td>2018-01-21 02:01:00</td>\n",
       "      <td>Normal</td>\n",
       "      <td>Traffic</td>\n",
       "      <td>Street/Road</td>\n",
       "      <td>0</td>\n",
       "      <td>0</td>\n",
       "      <td>2018-01-21</td>\n",
       "      <td>02:01:00</td>\n",
       "    </tr>\n",
       "    <tr>\n",
       "      <th>1</th>\n",
       "      <td>Abhimanyu</td>\n",
       "      <td>22.498607</td>\n",
       "      <td>88.383522</td>\n",
       "      <td>59.8</td>\n",
       "      <td>2018-01-21 02:01:00</td>\n",
       "      <td>Normal</td>\n",
       "      <td>Traffic</td>\n",
       "      <td>Street/Road</td>\n",
       "      <td>0</td>\n",
       "      <td>0</td>\n",
       "      <td>2018-01-21</td>\n",
       "      <td>02:01:00</td>\n",
       "    </tr>\n",
       "  </tbody>\n",
       "</table>\n",
       "</div>"
      ],
      "text/plain": [
       "    username   latitude  longitude  noise_value           timestamp  \\\n",
       "0  Abhimanyu  22.498528  88.383528         32.6 2018-01-21 02:01:00   \n",
       "1  Abhimanyu  22.498607  88.383522         59.8 2018-01-21 02:01:00   \n",
       "\n",
       "  tolerance_level noise_category region_category  aqi_value  population_type  \\\n",
       "0          Normal        Traffic     Street/Road          0                0   \n",
       "1          Normal        Traffic     Street/Road          0                0   \n",
       "\n",
       "         date      time  \n",
       "0  2018-01-21  02:01:00  \n",
       "1  2018-01-21  02:01:00  "
      ]
     },
     "execution_count": 11,
     "metadata": {},
     "output_type": "execute_result"
    }
   ],
   "source": [
    "data.head(2)"
   ]
  },
  {
   "cell_type": "code",
   "execution_count": 12,
   "metadata": {},
   "outputs": [
    {
     "name": "stdout",
     "output_type": "stream",
     "text": [
      "<class 'pandas.core.frame.DataFrame'>\n",
      "RangeIndex: 1997 entries, 0 to 1996\n",
      "Data columns (total 12 columns):\n",
      "username           1997 non-null object\n",
      "latitude           1997 non-null float64\n",
      "longitude          1997 non-null float64\n",
      "noise_value        1997 non-null float64\n",
      "timestamp          1997 non-null datetime64[ns]\n",
      "tolerance_level    1997 non-null object\n",
      "noise_category     1997 non-null object\n",
      "region_category    1997 non-null object\n",
      "aqi_value          1997 non-null int64\n",
      "population_type    1997 non-null int64\n",
      "date               1997 non-null object\n",
      "time               1997 non-null object\n",
      "dtypes: datetime64[ns](1), float64(3), int64(2), object(6)\n",
      "memory usage: 187.3+ KB\n"
     ]
    }
   ],
   "source": [
    "data.info()"
   ]
  },
  {
   "cell_type": "code",
   "execution_count": 13,
   "metadata": {},
   "outputs": [
    {
     "data": {
      "text/plain": [
       "<seaborn.axisgrid.PairGrid at 0x7fb94ff7d240>"
      ]
     },
     "execution_count": 13,
     "metadata": {},
     "output_type": "execute_result"
    },
    {
     "data": {
      "image/png": "[encoded data removed]",
      "text/plain": [
       "<Figure size 900x900 with 30 Axes>"
      ]
     },
     "metadata": {},
     "output_type": "display_data"
    }
   ],
   "source": [
    "sns.pairplot(data)"
   ]
  },
  {
   "cell_type": "code",
   "execution_count": 14,
   "metadata": {},
   "outputs": [],
   "source": [
    "train=data[0:1596]\n",
    "test=data[1596:]"
   ]
  },
  {
   "cell_type": "code",
   "execution_count": 15,
   "metadata": {},
   "outputs": [
    {
     "data": {
      "text/plain": [
       "username           1596\n",
       "latitude           1596\n",
       "longitude          1596\n",
       "noise_value        1596\n",
       "timestamp          1596\n",
       "tolerance_level    1596\n",
       "noise_category     1596\n",
       "region_category    1596\n",
       "aqi_value          1596\n",
       "population_type    1596\n",
       "date               1596\n",
       "time               1596\n",
       "dtype: int64"
      ]
     },
     "execution_count": 15,
     "metadata": {},
     "output_type": "execute_result"
    }
   ],
   "source": [
    "train.count()"
   ]
  },
  {
   "cell_type": "code",
   "execution_count": 16,
   "metadata": {},
   "outputs": [],
   "source": [
    "train_y=train.noise_value\n",
    "test_y=test.noise_value"
   ]
  },
  {
   "cell_type": "code",
   "execution_count": 17,
   "metadata": {},
   "outputs": [
    {
     "name": "stderr",
     "output_type": "stream",
     "text": [
      "/home/riktim/anaconda3/envs/jde/lib/python3.6/site-packages/pandas/core/frame.py:3697: SettingWithCopyWarning: \n",
      "A value is trying to be set on a copy of a slice from a DataFrame\n",
      "\n",
      "See the caveats in the documentation: http://pandas.pydata.org/pandas-docs/stable/indexing.html#indexing-view-versus-copy\n",
      "  errors=errors)\n"
     ]
    }
   ],
   "source": [
    "columns = ['username','noise_value','tolerance_level','noise_category', 'region_category', 'aqi_value','timestamp']\n",
    "train.drop(columns,axis=1,inplace=True)\n",
    "test.drop(columns,axis=1,inplace=True)"
   ]
  },
  {
   "cell_type": "code",
   "execution_count": 18,
   "metadata": {},
   "outputs": [],
   "source": [
    "\n",
    "train_X=train\n",
    "test_X=test\n",
    "#train_X.date=train_X.date.values\n",
    "#test_X.date=test_X.date.values\n",
    "\n",
    "#train_X.time=train_X.date.values\n",
    "#test_X.time=test_X.date.values\n",
    "\n"
   ]
  },
  {
   "cell_type": "code",
   "execution_count": 19,
   "metadata": {},
   "outputs": [
    {
     "name": "stderr",
     "output_type": "stream",
     "text": [
      "/home/riktim/anaconda3/envs/jde/lib/python3.6/site-packages/pandas/core/frame.py:3697: SettingWithCopyWarning: \n",
      "A value is trying to be set on a copy of a slice from a DataFrame\n",
      "\n",
      "See the caveats in the documentation: http://pandas.pydata.org/pandas-docs/stable/indexing.html#indexing-view-versus-copy\n",
      "  errors=errors)\n"
     ]
    }
   ],
   "source": [
    "columns = ['date','time']\n",
    "train.drop(columns,axis=1,inplace=True)\n",
    "test.drop(columns,axis=1,inplace=True)"
   ]
  },
  {
   "cell_type": "code",
   "execution_count": 20,
   "metadata": {},
   "outputs": [
    {
     "data": {
      "text/html": [
       "<div>\n",
       "<style scoped>\n",
       "    .dataframe tbody tr th:only-of-type {\n",
       "        vertical-align: middle;\n",
       "    }\n",
       "\n",
       "    .dataframe tbody tr th {\n",
       "        vertical-align: top;\n",
       "    }\n",
       "\n",
       "    .dataframe thead th {\n",
       "        text-align: right;\n",
       "    }\n",
       "</style>\n",
       "<table border=\"1\" class=\"dataframe\">\n",
       "  <thead>\n",
       "    <tr style=\"text-align: right;\">\n",
       "      <th></th>\n",
       "      <th>latitude</th>\n",
       "      <th>longitude</th>\n",
       "      <th>population_type</th>\n",
       "    </tr>\n",
       "  </thead>\n",
       "  <tbody>\n",
       "    <tr>\n",
       "      <th>0</th>\n",
       "      <td>22.498528</td>\n",
       "      <td>88.383528</td>\n",
       "      <td>0</td>\n",
       "    </tr>\n",
       "    <tr>\n",
       "      <th>1</th>\n",
       "      <td>22.498607</td>\n",
       "      <td>88.383522</td>\n",
       "      <td>0</td>\n",
       "    </tr>\n",
       "  </tbody>\n",
       "</table>\n",
       "</div>"
      ],
      "text/plain": [
       "    latitude  longitude  population_type\n",
       "0  22.498528  88.383528                0\n",
       "1  22.498607  88.383522                0"
      ]
     },
     "execution_count": 20,
     "metadata": {},
     "output_type": "execute_result"
    }
   ],
   "source": [
    "train.head(2)"
   ]
  },
  {
   "cell_type": "code",
   "execution_count": 21,
   "metadata": {},
   "outputs": [],
   "source": [
    "from sklearn.ensemble import GradientBoostingRegressor\n",
    "GBR = GradientBoostingRegressor(n_estimators=100, max_depth=4)\n",
    "\n",
    "GBR.fit(train_X, train_y)\n",
    "predicted_noise = GBR.predict(test_X)"
   ]
  },
  {
   "cell_type": "code",
   "execution_count": 22,
   "metadata": {},
   "outputs": [
    {
     "data": {
      "text/plain": [
       "18.731251180502365"
      ]
     },
     "execution_count": 22,
     "metadata": {},
     "output_type": "execute_result"
    }
   ],
   "source": [
    "mse = mean_squared_error(test_y, predicted_noise)\n",
    "mse"
   ]
  },
  {
   "cell_type": "code",
   "execution_count": 23,
   "metadata": {},
   "outputs": [
    {
     "name": "stderr",
     "output_type": "stream",
     "text": [
      "/home/riktim/anaconda3/envs/jde/lib/python3.6/site-packages/sklearn/linear_model/stochastic_gradient.py:128: FutureWarning: max_iter and tol parameters have been added in <class 'sklearn.linear_model.stochastic_gradient.SGDRegressor'> in 0.19. If both are left unset, they default to max_iter=5 and tol=None. If tol is not None, max_iter defaults to max_iter=1000. From 0.21, default max_iter will be 1000, and default tol will be 1e-3.\n",
      "  \"and default tol will be 1e-3.\" % type(self), FutureWarning)\n",
      "/home/riktim/anaconda3/envs/jde/lib/python3.6/site-packages/sklearn/linear_model/stochastic_gradient.py:128: FutureWarning: max_iter and tol parameters have been added in <class 'sklearn.linear_model.passive_aggressive.PassiveAggressiveRegressor'> in 0.19. If both are left unset, they default to max_iter=5 and tol=None. If tol is not None, max_iter defaults to max_iter=1000. From 0.21, default max_iter will be 1000, and default tol will be 1e-3.\n",
      "  \"and default tol will be 1e-3.\" % type(self), FutureWarning)\n"
     ]
    }
   ],
   "source": [
    "import numpy as np\n",
    "from sklearn import linear_model\n",
    "from sklearn import svm\n",
    "\n",
    "classifiers = [\n",
    "    svm.SVR(),\n",
    "    linear_model.SGDRegressor(),\n",
    "    linear_model.BayesianRidge(),\n",
    "    linear_model.LassoLars(),\n",
    "    linear_model.ARDRegression(),\n",
    "    linear_model.PassiveAggressiveRegressor(),\n",
    "    linear_model.TheilSenRegressor(),\n",
    "    linear_model.LinearRegression()]\n",
    "\n",
    "\n",
    "\n",
    "for item in classifiers:\n",
    "    \n",
    "    clf = item\n",
    "    clf.fit(train_X, train_y)\n",
    "    predicted_noise = clf.predict(test_X)\n",
    "    "
   ]
  },
  {
   "cell_type": "code",
   "execution_count": 24,
   "metadata": {},
   "outputs": [
    {
     "data": {
      "text/plain": [
       "13.566916380043548"
      ]
     },
     "execution_count": 24,
     "metadata": {},
     "output_type": "execute_result"
    }
   ],
   "source": [
    "mse = mean_squared_error(test_y, predicted_noise)\n",
    "mse"
   ]
  },
  {
   "cell_type": "code",
   "execution_count": 25,
   "metadata": {},
   "outputs": [],
   "source": [
    "my_model = RandomForestRegressor(n_estimators=1000)\n",
    "my_model.fit(train_X, train_y)\n",
    "predicted_noise = my_model.predict(test_X)"
   ]
  },
  {
   "cell_type": "code",
   "execution_count": 26,
   "metadata": {},
   "outputs": [
    {
     "data": {
      "text/plain": [
       "30.580035218251897"
      ]
     },
     "execution_count": 26,
     "metadata": {},
     "output_type": "execute_result"
    }
   ],
   "source": [
    "mse = mean_squared_error(test_y, predicted_noise)\n",
    "mse"
   ]
  },
  {
   "cell_type": "code",
   "execution_count": 27,
   "metadata": {},
   "outputs": [],
   "source": [
    "from sklearn import linear_model\n",
    "model = linear_model.LinearRegression()\n",
    "model.fit(train_X, train_y)\n",
    "predicted_noise = model.predict(test_X)"
   ]
  },
  {
   "cell_type": "code",
   "execution_count": null,
   "metadata": {},
   "outputs": [],
   "source": [
    "mse = mean_squared_error(test_y, predicted_noise)\n",
    "mse"
   ]
  },
  {
   "cell_type": "code",
   "execution_count": null,
   "metadata": {},
   "outputs": [],
   "source": [
    "from sklearn.preprocessing import PolynomialFeatures\n",
    "from sklearn import linear_model\n",
    "poly_reg = PolynomialFeatures(degree = 9)\n",
    "X_poly = poly_reg.fit_transform(train_X)\n",
    "poly_reg.fit(X_poly, train_y)\n",
    "\n"
   ]
  },
  {
   "cell_type": "code",
   "execution_count": null,
   "metadata": {},
   "outputs": [],
   "source": [
    "from sklearn import linear_model\n",
    "lin_reg_2 = linear_model.LinearRegression()\n",
    "lin_reg_2.fit(X_poly, train_y)"
   ]
  },
  {
   "cell_type": "code",
   "execution_count": null,
   "metadata": {},
   "outputs": [],
   "source": [
    "test_x_transform=poly_reg.fit_transform(test_X)\n",
    "predicted_noise = lin_reg_2.predict(test_x_transform)"
   ]
  },
  {
   "cell_type": "code",
   "execution_count": null,
   "metadata": {},
   "outputs": [],
   "source": [
    "mse = mean_squared_error(test_y, predicted_noise)\n",
    "mse"
   ]
  },
  {
   "cell_type": "code",
   "execution_count": null,
   "metadata": {},
   "outputs": [],
   "source": []
  }
 ],
 "metadata": {
  "celltoolbar": "Tags",
  "kernelspec": {
   "display_name": "Python 3",
   "language": "python",
   "name": "python3"
  },
  "language_info": {
   "codemirror_mode": {
    "name": "ipython",
    "version": 3
   },
   "file_extension": ".py",
   "mimetype": "text/x-python",
   "name": "python",
   "nbconvert_exporter": "python",
   "pygments_lexer": "ipython3",
   "version": "3.6.6"
  }
 },
 "nbformat": 4,
 "nbformat_minor": 2
}
